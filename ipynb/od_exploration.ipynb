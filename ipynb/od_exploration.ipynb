{
 "cells": [
  {
   "cell_type": "code",
   "execution_count": 11,
   "metadata": {},
   "outputs": [
    {
     "name": "stdout",
     "output_type": "stream",
     "text": [
      "The autoreload extension is already loaded. To reload it, use:\n",
      "  %reload_ext autoreload\n"
     ]
    }
   ],
   "source": [
    "import re\n",
    "import os\n",
    "import io\n",
    "import cv2\n",
    "import json\n",
    "import shutil\n",
    "import numpy as np\n",
    "import pandas as pd\n",
    "import matplotlib.pyplot as plt\n",
    "\n",
    "import torch\n",
    "from torch.utils.data import Dataset\n",
    "\n",
    "from rdkit import Chem\n",
    "\n",
    "import sys\n",
    "sys.path.append('../')\n",
    "from util import *\n",
    "from dataloader import MoleculeDataset\n",
    "from models.sasa import ResNet26, ResNet38, ResNet50, get_model_parameters\n",
    "\n",
    "%load_ext autoreload\n",
    "%autoreload 2\n",
    "\n",
    "import IPython.display as Disp\n",
    "np.set_printoptions(suppress=True)"
   ]
  },
  {
   "cell_type": "code",
   "execution_count": 12,
   "metadata": {},
   "outputs": [],
   "source": [
    "DATA_DIR = '/Users/prguser/big_data/bms_kaggle'\n",
    "TEST_DIR = os.path.join(DATA_DIR, 'test')\n",
    "TRAIN_DIR = os.path.join(DATA_DIR, 'train')\n",
    "TRAIN_RESIZE_DIR = os.path.join(DATA_DIR, 'train_resize')\n",
    "TEST_RESIZE_DIR = os.path.join(DATA_DIR, 'test_resize')\n",
    "MAX_INCHI_LENGTH = 350\n",
    "with open('../data/char_dict.json', 'r') as f:\n",
    "    CHAR_DICT = json.load(f)\n",
    "with open('../data/ord_dict.json', 'r') as f:\n",
    "    ORD_DICT = json.load(f)"
   ]
  },
  {
   "cell_type": "code",
   "execution_count": 3,
   "metadata": {},
   "outputs": [],
   "source": [
    "def get_n_samples(DIR):\n",
    "    n_samples = 0\n",
    "    for i in os.listdir(DIR):\n",
    "        if '.' == i[0]:\n",
    "            pass\n",
    "        else:\n",
    "            for j in os.listdir(os.path.join(DIR, i)):\n",
    "                if '.' == j[0]:\n",
    "                    pass\n",
    "                else:\n",
    "                    for k in os.listdir(os.path.join(DIR, i, j)):\n",
    "                        if '.' == k[0]:\n",
    "                            pass\n",
    "                        else:\n",
    "                            n_samples += len(os.listdir(os.path.join(DIR, i, j, k)))\n",
    "    return n_samples"
   ]
  },
  {
   "cell_type": "code",
   "execution_count": 4,
   "metadata": {},
   "outputs": [],
   "source": [
    "n_train_samples = get_n_samples(TRAIN_DIR)\n",
    "n_test_samples = get_n_samples(TEST_DIR)"
   ]
  },
  {
   "cell_type": "code",
   "execution_count": 5,
   "metadata": {},
   "outputs": [
    {
     "data": {
      "text/plain": [
       "'2424186 training samples, 1616107 test samples'"
      ]
     },
     "execution_count": 5,
     "metadata": {},
     "output_type": "execute_result"
    }
   ],
   "source": [
    "'{} training samples, {} test samples'.format(n_train_samples, n_test_samples)"
   ]
  },
  {
   "cell_type": "markdown",
   "metadata": {},
   "source": [
    "Training samples are labeled with InChI strings, test samples are unlabeled."
   ]
  },
  {
   "cell_type": "code",
   "execution_count": 6,
   "metadata": {},
   "outputs": [
    {
     "data": {
      "text/html": [
       "<div>\n",
       "<style scoped>\n",
       "    .dataframe tbody tr th:only-of-type {\n",
       "        vertical-align: middle;\n",
       "    }\n",
       "\n",
       "    .dataframe tbody tr th {\n",
       "        vertical-align: top;\n",
       "    }\n",
       "\n",
       "    .dataframe thead th {\n",
       "        text-align: right;\n",
       "    }\n",
       "</style>\n",
       "<table border=\"1\" class=\"dataframe\">\n",
       "  <thead>\n",
       "    <tr style=\"text-align: right;\">\n",
       "      <th></th>\n",
       "      <th>image_id</th>\n",
       "      <th>InChI</th>\n",
       "    </tr>\n",
       "  </thead>\n",
       "  <tbody>\n",
       "    <tr>\n",
       "      <th>0</th>\n",
       "      <td>000011a64c74</td>\n",
       "      <td>InChI=1S/C13H20OS/c1-9(2)8-15-13-6-5-10(3)7-12...</td>\n",
       "    </tr>\n",
       "    <tr>\n",
       "      <th>1</th>\n",
       "      <td>000019cc0cd2</td>\n",
       "      <td>InChI=1S/C21H30O4/c1-12(22)25-14-6-8-20(2)13(1...</td>\n",
       "    </tr>\n",
       "    <tr>\n",
       "      <th>2</th>\n",
       "      <td>0000252b6d2b</td>\n",
       "      <td>InChI=1S/C24H23N5O4/c1-14-13-15(7-8-17(14)28-1...</td>\n",
       "    </tr>\n",
       "    <tr>\n",
       "      <th>3</th>\n",
       "      <td>000026b49b7e</td>\n",
       "      <td>InChI=1S/C17H24N2O4S/c1-12(20)18-13(14-7-6-10-...</td>\n",
       "    </tr>\n",
       "    <tr>\n",
       "      <th>4</th>\n",
       "      <td>000026fc6c36</td>\n",
       "      <td>InChI=1S/C10H19N3O2S/c1-15-10(14)12-8-4-6-13(7...</td>\n",
       "    </tr>\n",
       "  </tbody>\n",
       "</table>\n",
       "</div>"
      ],
      "text/plain": [
       "       image_id                                              InChI\n",
       "0  000011a64c74  InChI=1S/C13H20OS/c1-9(2)8-15-13-6-5-10(3)7-12...\n",
       "1  000019cc0cd2  InChI=1S/C21H30O4/c1-12(22)25-14-6-8-20(2)13(1...\n",
       "2  0000252b6d2b  InChI=1S/C24H23N5O4/c1-14-13-15(7-8-17(14)28-1...\n",
       "3  000026b49b7e  InChI=1S/C17H24N2O4S/c1-12(20)18-13(14-7-6-10-...\n",
       "4  000026fc6c36  InChI=1S/C10H19N3O2S/c1-15-10(14)12-8-4-6-13(7..."
      ]
     },
     "execution_count": 6,
     "metadata": {},
     "output_type": "execute_result"
    }
   ],
   "source": [
    "train_labels = pd.read_csv(os.path.join(DATA_DIR, 'train_labels.csv'))\n",
    "test_labels = pd.read_csv(os.path.join(DATA_DIR, 'sample_submission.csv'))\n",
    "train_labels.head()"
   ]
  },
  {
   "cell_type": "code",
   "execution_count": 7,
   "metadata": {},
   "outputs": [
    {
     "data": {
      "text/html": [
       "<div>\n",
       "<style scoped>\n",
       "    .dataframe tbody tr th:only-of-type {\n",
       "        vertical-align: middle;\n",
       "    }\n",
       "\n",
       "    .dataframe tbody tr th {\n",
       "        vertical-align: top;\n",
       "    }\n",
       "\n",
       "    .dataframe thead th {\n",
       "        text-align: right;\n",
       "    }\n",
       "</style>\n",
       "<table border=\"1\" class=\"dataframe\">\n",
       "  <thead>\n",
       "    <tr style=\"text-align: right;\">\n",
       "      <th></th>\n",
       "      <th>image_id</th>\n",
       "      <th>InChI</th>\n",
       "    </tr>\n",
       "  </thead>\n",
       "  <tbody>\n",
       "    <tr>\n",
       "      <th>0</th>\n",
       "      <td>00000d2a601c</td>\n",
       "      <td>InChI=1S/H2O/h1H2</td>\n",
       "    </tr>\n",
       "    <tr>\n",
       "      <th>1</th>\n",
       "      <td>00001f7fc849</td>\n",
       "      <td>InChI=1S/H2O/h1H2</td>\n",
       "    </tr>\n",
       "    <tr>\n",
       "      <th>2</th>\n",
       "      <td>000037687605</td>\n",
       "      <td>InChI=1S/H2O/h1H2</td>\n",
       "    </tr>\n",
       "    <tr>\n",
       "      <th>3</th>\n",
       "      <td>00004b6d55b6</td>\n",
       "      <td>InChI=1S/H2O/h1H2</td>\n",
       "    </tr>\n",
       "    <tr>\n",
       "      <th>4</th>\n",
       "      <td>00004df0fe53</td>\n",
       "      <td>InChI=1S/H2O/h1H2</td>\n",
       "    </tr>\n",
       "  </tbody>\n",
       "</table>\n",
       "</div>"
      ],
      "text/plain": [
       "       image_id              InChI\n",
       "0  00000d2a601c  InChI=1S/H2O/h1H2\n",
       "1  00001f7fc849  InChI=1S/H2O/h1H2\n",
       "2  000037687605  InChI=1S/H2O/h1H2\n",
       "3  00004b6d55b6  InChI=1S/H2O/h1H2\n",
       "4  00004df0fe53  InChI=1S/H2O/h1H2"
      ]
     },
     "execution_count": 7,
     "metadata": {},
     "output_type": "execute_result"
    }
   ],
   "source": [
    "test_labels.head()"
   ]
  },
  {
   "cell_type": "code",
   "execution_count": 8,
   "metadata": {},
   "outputs": [],
   "source": [
    "train_df = pd.read_csv('../data/train.csv')\n",
    "test_df = pd.read_csv('../data/test.csv')"
   ]
  },
  {
   "cell_type": "code",
   "execution_count": null,
   "metadata": {},
   "outputs": [],
   "source": []
  },
  {
   "cell_type": "markdown",
   "metadata": {},
   "source": [
    "# Exploring the Inputs"
   ]
  },
  {
   "cell_type": "code",
   "execution_count": 98,
   "metadata": {},
   "outputs": [
    {
     "data": {
      "image/png": "[encoded data removed]",
      "text/plain": [
       "<Figure size 1152x864 with 9 Axes>"
      ]
     },
     "metadata": {
      "needs_background": "light"
     },
     "output_type": "display_data"
    }
   ],
   "source": [
    "def get_path_from_img_id(img_id, DIR):\n",
    "    img_path = os.path.join(DIR, img_id[0], img_id[1], img_id[2], '{}.png'.format(img_id))\n",
    "    return img_path\n",
    "\n",
    "def visualize_sample(train_labels):\n",
    "    plt.figure(figsize=(16,12))\n",
    "    sample = train_labels.sample(n=9)\n",
    "    img_ids = sample.image_id.values\n",
    "    labels = sample.InChI.values\n",
    "    for idx, (img_id, label) in enumerate(zip(img_ids, labels)):\n",
    "        plt.subplot(3, 3, idx+1)\n",
    "        img_path = get_path_from_img_id(img_id, TRAIN_RESIZE_DIR)\n",
    "        img = cv2.imread(img_path)\n",
    "        img = cv2.cvtColor(img, cv2.COLOR_BGR2RGB)\n",
    "        plt.imshow(img)\n",
    "        plt.title(f\"{label[:30]}...\", fontsize=10)\n",
    "#         plt.title(\"{} height, {} width\".format(img.shape[0], img.shape[1]))\n",
    "    plt.show()\n",
    "\n",
    "def visualize_img_id(img_id):\n",
    "    plt.figure(figsize=(16,12))\n",
    "    img_path = get_path_from_img_id(img_id, load_dir='train_resize')\n",
    "    img = cv2.imread(img_path)\n",
    "    img = cv2.cvtColor(img, cv2.COLOR_BGR2RGB)\n",
    "    plt.imshow(img)\n",
    "    plt.show()\n",
    "\n",
    "visualize_sample(train_labels)"
   ]
  },
  {
   "cell_type": "markdown",
   "metadata": {},
   "source": [
    "Obviously, images are very noisy. I think it'll be worth supplementing with less noisy labeled molecular structures (pretty sure we can easily get this data from PubChem). Additionally, we might be able to \"fill in\" very grainy images based on image correction machine learning models that are used for de-noising photographs, renders, etc. \n",
    "\n",
    "One way might be to find the exact same molecule on PubChem and train a model to first fix the noisy image.\n",
    "\n",
    "Finally, image sizes will need to be normalized but it is not clear what the best method for doing so will be. My intuition says that we should use a large padded input box that allows us to keep all features the same size (i.e. a single aromatic ring should occupy the same number of pixels regardless of the total size of the molecule)."
   ]
  },
  {
   "cell_type": "markdown",
   "metadata": {},
   "source": [
    "### Denoise"
   ]
  },
  {
   "cell_type": "code",
   "execution_count": 16,
   "metadata": {},
   "outputs": [],
   "source": [
    "def denoise_img(img_path, dot_size=2):\n",
    "    img = cv2.imread(img_path, cv2.IMREAD_GRAYSCALE)\n",
    "    _, BW = cv2.threshold(img, 127, 255, cv2.THRESH_BINARY_INV)\n",
    "    nlabels, labels, stats, _ = cv2.connectedComponentsWithStats(BW, None, None, None, 8, cv2.CV_32S)\n",
    "    sizes = stats[1:,-1]\n",
    "    img2 = np.zeros((labels.shape), np.uint8)\n",
    "    for i in range(0, nlabels-1):\n",
    "        if sizes[i] >= dot_size:\n",
    "            img2[labels == i+1] = 255\n",
    "    img = cv2.bitwise_not(img2)\n",
    "    return img"
   ]
  },
  {
   "cell_type": "code",
   "execution_count": 29,
   "metadata": {},
   "outputs": [
    {
     "data": {
      "image/png": "[encoded data removed]",
      "text/plain": [
       "<Figure size 576x576 with 1 Axes>"
      ]
     },
     "metadata": {
      "needs_background": "light"
     },
     "output_type": "display_data"
    },
    {
     "data": {
      "image/png": "[encoded data removed]",
      "text/plain": [
       "<Figure size 576x576 with 1 Axes>"
      ]
     },
     "metadata": {
      "needs_background": "light"
     },
     "output_type": "display_data"
    }
   ],
   "source": [
    "img_path = get_path_from_img_id(train_labels.sample(n=1).image_id.values[0], TRAIN_DIR)\n",
    "img = cv2.imread(img_path, cv2.IMREAD_GRAYSCALE)\n",
    "plt.figure(figsize=(8,8))\n",
    "plt.imshow(img, cmap='gray')\n",
    "plt.show()\n",
    "img = denoise_img(img_path)\n",
    "plt.figure(figsize=(8,8))\n",
    "plt.imshow(img, cmap='gray')\n",
    "plt.show()"
   ]
  },
  {
   "cell_type": "code",
   "execution_count": 103,
   "metadata": {},
   "outputs": [],
   "source": [
    "from skimage import morphology"
   ]
  },
  {
   "cell_type": "code",
   "execution_count": 104,
   "metadata": {},
   "outputs": [
    {
     "data": {
      "image/png": "[encoded data removed]",
      "text/plain": [
       "<Figure size 576x576 with 1 Axes>"
      ]
     },
     "metadata": {
      "needs_background": "light"
     },
     "output_type": "display_data"
    },
    {
     "data": {
      "image/png": "[encoded data removed]",
      "text/plain": [
       "<Figure size 576x576 with 1 Axes>"
      ]
     },
     "metadata": {
      "needs_background": "light"
     },
     "output_type": "display_data"
    },
    {
     "data": {
      "image/png": "[encoded data removed]",
      "text/plain": [
       "<Figure size 576x576 with 1 Axes>"
      ]
     },
     "metadata": {
      "needs_background": "light"
     },
     "output_type": "display_data"
    }
   ],
   "source": [
    "img_path = get_path_from_img_id(train_labels.sample(n=1).image_id.values[0], TRAIN_RESIZE_DIR)\n",
    "img = (255 - cv2.imread(img_path, cv2.IMREAD_GRAYSCALE)) / 255\n",
    "plt.figure(figsize=(8,8))\n",
    "plt.imshow(img, cmap='gray')\n",
    "plt.title('Original', fontweight='bold')\n",
    "plt.show()\n",
    "img = morphology.dilation(img, selem=morphology.square(1))\n",
    "plt.figure(figsize=(8,8))\n",
    "plt.imshow(img, cmap='gray')\n",
    "plt.title('Dilation', fontweight='bold')\n",
    "plt.show()\n",
    "# img = morphology.erosion(img)\n",
    "# plt.figure(figsize=(8,8))\n",
    "# plt.imshow(img, cmap='gray')\n",
    "# plt.title('Erosion', fontweight='bold')\n",
    "# plt.show()\n",
    "img = morphology.skeletonize(img)\n",
    "plt.figure(figsize=(8,8))\n",
    "plt.imshow(img, cmap='gray')\n",
    "plt.title('Skeletonize', fontweight='bold')\n",
    "plt.show()"
   ]
  },
  {
   "cell_type": "markdown",
   "metadata": {},
   "source": [
    "Denoising only works on images before they are resized. Must denoise and then resize."
   ]
  },
  {
   "cell_type": "code",
   "execution_count": null,
   "metadata": {},
   "outputs": [],
   "source": []
  },
  {
   "cell_type": "markdown",
   "metadata": {},
   "source": [
    "### Resize"
   ]
  },
  {
   "cell_type": "code",
   "execution_count": 38,
   "metadata": {},
   "outputs": [],
   "source": [
    "import PIL\n",
    "from PIL import Image, ImageOps\n",
    "from tqdm.auto import tqdm"
   ]
  },
  {
   "cell_type": "code",
   "execution_count": 13,
   "metadata": {},
   "outputs": [
    {
     "data": {
      "text/plain": [
       "'5.4.1'"
      ]
     },
     "execution_count": 13,
     "metadata": {},
     "output_type": "execute_result"
    }
   ],
   "source": [
    "PIL.__version__"
   ]
  },
  {
   "cell_type": "code",
   "execution_count": 7,
   "metadata": {},
   "outputs": [],
   "source": [
    "def pillow_pad(img, desired_size, color=(255,255,255,0), resample=Image.LANCZOS, copy=False):\n",
    "    if copy:\n",
    "        img = img.copy()\n",
    "    \n",
    "    old_size = img.size\n",
    "    ratio = float(desired_size)/max(old_size)\n",
    "    new_size = tuple([int(x*ratio) for x in old_size])\n",
    "    \n",
    "    img.thumbnail(new_size, resample)\n",
    "    \n",
    "    new_img = Image.new('RGB', (desired_size, desired_size), color=color)\n",
    "    new_img.paste(img, ((desired_size-new_size[0])//2,\n",
    "                        (desired_size-new_size[1])//2))\n",
    "    return new_img"
   ]
  },
  {
   "cell_type": "code",
   "execution_count": 105,
   "metadata": {},
   "outputs": [],
   "source": [
    "def resize_imgs(img_ids, DIR, resize=256):\n",
    "    os.makedirs('temp_denoise', exist_ok=True)\n",
    "    temp_path = 'temp_denoise/denoised.png'\n",
    "    for i, img_id in enumerate(img_ids):\n",
    "        img_path = get_path_from_img_id(img_id, DIR)\n",
    "        cv2.imwrite('temp_denoise/noised.png', cv2.imread(img_path, cv2.IMREAD_GRAYSCALE))\n",
    "        \n",
    "        ### must first denoise image\n",
    "        img = denoise_img(img_path)\n",
    "        \n",
    "        ### save to temporary path\n",
    "        cv2.imwrite('temp_denoise/denoised.png', img)\n",
    "        \n",
    "        img = Image.open(temp_path)\n",
    "        img = pillow_pad(img, resize)\n",
    "        if save_dir == 'train':\n",
    "            resize_img_path = os.path.join(TRAIN_RESIZE_DIR, '/'.join(img_path.split('/')[-4:]))\n",
    "        elif save_dir == 'test':\n",
    "            resize_img_path = os.path.join(TEST_RESIZE_DIR, '/'.join(img_path.split('/')[-4:]))\n",
    "        img.save(resize_img_path)\n",
    "    shutil.rmtree('temp_denoise')\n",
    "        "
   ]
  },
  {
   "cell_type": "code",
   "execution_count": 82,
   "metadata": {},
   "outputs": [
    {
     "data": {
      "image/png": "[encoded data removed]",
      "text/plain": [
       "<PIL.Image.Image image mode=RGB size=256x256 at 0x7FE54B69E9B0>"
      ]
     },
     "execution_count": 82,
     "metadata": {},
     "output_type": "execute_result"
    }
   ],
   "source": [
    "### PAD EXAMPLE\n",
    "\n",
    "resize = 256\n",
    "img_path = get_path_from_img_id(train_labels.sample(n=1).image_id.values[0])\n",
    "img = Image.open(img_path)\n",
    "img = pillow_pad(img, resize)\n",
    "img"
   ]
  },
  {
   "cell_type": "code",
   "execution_count": 83,
   "metadata": {},
   "outputs": [],
   "source": [
    "### Resize Training Samples (np.array)\n",
    "\n",
    "resize = 256\n",
    "resize_imgs(train_labels.image_id.values, TRAIN_DIR, resize=resize)"
   ]
  },
  {
   "cell_type": "code",
   "execution_count": 84,
   "metadata": {},
   "outputs": [],
   "source": [
    "### Resize Test Samples (np.array)\n",
    "\n",
    "resize = 256\n",
    "resize_imgs(test_labels.image_id.values, TEST_DIR, resize=resize)"
   ]
  },
  {
   "cell_type": "markdown",
   "metadata": {},
   "source": [
    "All resized images are stored in the same directory structure as original data, but the folders are renamed `train_resize` and `test_resize`"
   ]
  },
  {
   "cell_type": "code",
   "execution_count": null,
   "metadata": {},
   "outputs": [],
   "source": []
  },
  {
   "cell_type": "markdown",
   "metadata": {},
   "source": [
    "### Optical Character Recognition (OCR)"
   ]
  },
  {
   "cell_type": "code",
   "execution_count": 35,
   "metadata": {},
   "outputs": [],
   "source": [
    "import pytesseract"
   ]
  },
  {
   "cell_type": "code",
   "execution_count": 55,
   "metadata": {},
   "outputs": [
    {
     "data": {
      "text/plain": [
       "'~ 0 0 0 0 0\\n'"
      ]
     },
     "execution_count": 55,
     "metadata": {},
     "output_type": "execute_result"
    }
   ],
   "source": [
    "img_path = get_path_from_img_id(train_labels.sample(n=1).image_id.values[0], TRAIN_RESIZE_DIR)\n",
    "img = Image.open(img_path)\n",
    "pytesseract.image_to_boxes(img)"
   ]
  },
  {
   "cell_type": "code",
   "execution_count": 56,
   "metadata": {},
   "outputs": [
    {
     "data": {
      "image/png": "[encoded data removed]",
      "text/plain": [
       "<PIL.PngImagePlugin.PngImageFile image mode=RGB size=256x256 at 0x7FADB98AD710>"
      ]
     },
     "execution_count": 56,
     "metadata": {},
     "output_type": "execute_result"
    }
   ],
   "source": [
    "img"
   ]
  },
  {
   "cell_type": "markdown",
   "metadata": {},
   "source": [
    "tesseract sucks"
   ]
  },
  {
   "cell_type": "code",
   "execution_count": 104,
   "metadata": {},
   "outputs": [
    {
     "data": {
      "image/png": "[encoded data removed]",
      "text/plain": [
       "<Figure size 1152x864 with 4 Axes>"
      ]
     },
     "metadata": {
      "needs_background": "light"
     },
     "output_type": "display_data"
    }
   ],
   "source": [
    "img_id = train_df.sample(n=1).image_id.values[0]\n",
    "img_path = get_path_from_img_id(img_id, TRAIN_RESIZE_DIR)\n",
    "img = Image.open(img_path)\n",
    "img = img.convert('L')\n",
    "# display(img)\n",
    "\n",
    "img = np.array(img)\n",
    "img = invert_and_normalize(img)\n",
    "\n",
    "prebinarized = binarize(img)\n",
    "edges = edge_enhance(prebinarized)\n",
    "edges = edge_detect(edges)\n",
    "vertex_map = get_vertices(img, window_size=5, window_mask=False, window_list=True)\n",
    "\n",
    "fig, ax = plt.subplots(2, 2, figsize=(16,12))\n",
    "ax[0,0].imshow(img)\n",
    "ax[0,0].set_title('Raw')\n",
    "ax[0,1].imshow(prebinarized)\n",
    "ax[0,1].set_title('Binarized')\n",
    "ax[1,0].imshow(edges)\n",
    "ax[1,0].set_title('Edges')\n",
    "ax[1,1].imshow(vertex_map)\n",
    "ax[1,1].set_title('Vertices')\n",
    "plt.show()"
   ]
  },
  {
   "cell_type": "code",
   "execution_count": 106,
   "metadata": {},
   "outputs": [
    {
     "data": {
      "image/png": "[encoded data removed]",
      "text/plain": [
       "<Figure size 432x288 with 1 Axes>"
      ]
     },
     "metadata": {
      "needs_background": "light"
     },
     "output_type": "display_data"
    },
    {
     "data": {
      "image/png": "[encoded data removed]",
      "text/plain": [
       "<Figure size 432x288 with 1 Axes>"
      ]
     },
     "metadata": {
      "needs_background": "light"
     },
     "output_type": "display_data"
    },
    {
     "data": {
      "image/png": "[encoded data removed]",
      "text/plain": [
       "<Figure size 432x288 with 1 Axes>"
      ]
     },
     "metadata": {
      "needs_background": "light"
     },
     "output_type": "display_data"
    },
    {
     "data": {
      "image/png": "[encoded data removed]",
      "text/plain": [
       "<Figure size 432x288 with 1 Axes>"
      ]
     },
     "metadata": {
      "needs_background": "light"
     },
     "output_type": "display_data"
    },
    {
     "data": {
      "image/png": "[encoded data removed]",
      "text/plain": [
       "<Figure size 432x288 with 1 Axes>"
      ]
     },
     "metadata": {
      "needs_background": "light"
     },
     "output_type": "display_data"
    },
    {
     "data": {
      "image/png": "[encoded data removed]",
      "text/plain": [
       "<Figure size 432x288 with 1 Axes>"
      ]
     },
     "metadata": {
      "needs_background": "light"
     },
     "output_type": "display_data"
    },
    {
     "data": {
      "image/png": "[encoded data removed]",
      "text/plain": [
       "<Figure size 432x288 with 1 Axes>"
      ]
     },
     "metadata": {
      "needs_background": "light"
     },
     "output_type": "display_data"
    },
    {
     "data": {
      "image/png": "[encoded data removed]",
      "text/plain": [
       "<Figure size 432x288 with 1 Axes>"
      ]
     },
     "metadata": {
      "needs_background": "light"
     },
     "output_type": "display_data"
    },
    {
     "data": {
      "image/png": "[encoded data removed]",
      "text/plain": [
       "<Figure size 432x288 with 1 Axes>"
      ]
     },
     "metadata": {
      "needs_background": "light"
     },
     "output_type": "display_data"
    },
    {
     "data": {
      "image/png": "[encoded data removed]",
      "text/plain": [
       "<Figure size 432x288 with 1 Axes>"
      ]
     },
     "metadata": {
      "needs_background": "light"
     },
     "output_type": "display_data"
    },
    {
     "data": {
      "image/png": "[encoded data removed]",
      "text/plain": [
       "<Figure size 432x288 with 1 Axes>"
      ]
     },
     "metadata": {
      "needs_background": "light"
     },
     "output_type": "display_data"
    },
    {
     "data": {
      "image/png": "[encoded data removed]",
      "text/plain": [
       "<Figure size 432x288 with 1 Axes>"
      ]
     },
     "metadata": {
      "needs_background": "light"
     },
     "output_type": "display_data"
    },
    {
     "data": {
      "image/png": "[encoded data removed]",
      "text/plain": [
       "<Figure size 432x288 with 1 Axes>"
      ]
     },
     "metadata": {
      "needs_background": "light"
     },
     "output_type": "display_data"
    },
    {
     "data": {
      "image/png": "[encoded data removed]",
      "text/plain": [
       "<Figure size 432x288 with 1 Axes>"
      ]
     },
     "metadata": {
      "needs_background": "light"
     },
     "output_type": "display_data"
    },
    {
     "data": {
      "image/png": "[encoded data removed]",
      "text/plain": [
       "<Figure size 432x288 with 1 Axes>"
      ]
     },
     "metadata": {
      "needs_background": "light"
     },
     "output_type": "display_data"
    },
    {
     "data": {
      "image/png": "[encoded data removed]",
      "text/plain": [
       "<Figure size 432x288 with 1 Axes>"
      ]
     },
     "metadata": {
      "needs_background": "light"
     },
     "output_type": "display_data"
    },
    {
     "data": {
      "image/png": "[encoded data removed]",
      "text/plain": [
       "<Figure size 432x288 with 1 Axes>"
      ]
     },
     "metadata": {
      "needs_background": "light"
     },
     "output_type": "display_data"
    },
    {
     "data": {
      "image/png": "[encoded data removed]",
      "text/plain": [
       "<Figure size 432x288 with 1 Axes>"
      ]
     },
     "metadata": {
      "needs_background": "light"
     },
     "output_type": "display_data"
    },
    {
     "data": {
      "image/png": "[encoded data removed]",
      "text/plain": [
       "<Figure size 432x288 with 1 Axes>"
      ]
     },
     "metadata": {
      "needs_background": "light"
     },
     "output_type": "display_data"
    },
    {
     "data": {
      "image/png": "[encoded data removed]",
      "text/plain": [
       "<Figure size 432x288 with 1 Axes>"
      ]
     },
     "metadata": {
      "needs_background": "light"
     },
     "output_type": "display_data"
    },
    {
     "data": {
      "image/png": "[encoded data removed]",
      "text/plain": [
       "<Figure size 432x288 with 1 Axes>"
      ]
     },
     "metadata": {
      "needs_background": "light"
     },
     "output_type": "display_data"
    },
    {
     "data": {
      "image/png": "[encoded data removed]",
      "text/plain": [
       "<Figure size 432x288 with 1 Axes>"
      ]
     },
     "metadata": {
      "needs_background": "light"
     },
     "output_type": "display_data"
    },
    {
     "data": {
      "image/png": "[encoded data removed]",
      "text/plain": [
       "<Figure size 432x288 with 1 Axes>"
      ]
     },
     "metadata": {
      "needs_background": "light"
     },
     "output_type": "display_data"
    },
    {
     "data": {
      "image/png": "[encoded data removed]",
      "text/plain": [
       "<Figure size 432x288 with 1 Axes>"
      ]
     },
     "metadata": {
      "needs_background": "light"
     },
     "output_type": "display_data"
    },
    {
     "data": {
      "image/png": "[encoded data removed]",
      "text/plain": [
       "<Figure size 432x288 with 1 Axes>"
      ]
     },
     "metadata": {
      "needs_background": "light"
     },
     "output_type": "display_data"
    },
    {
     "data": {
      "image/png": "[encoded data removed]",
      "text/plain": [
       "<Figure size 432x288 with 1 Axes>"
      ]
     },
     "metadata": {
      "needs_background": "light"
     },
     "output_type": "display_data"
    },
    {
     "data": {
      "image/png": "[encoded data removed]",
      "text/plain": [
       "<Figure size 432x288 with 1 Axes>"
      ]
     },
     "metadata": {
      "needs_background": "light"
     },
     "output_type": "display_data"
    },
    {
     "data": {
      "image/png": "[encoded data removed]",
      "text/plain": [
       "<Figure size 432x288 with 1 Axes>"
      ]
     },
     "metadata": {
      "needs_background": "light"
     },
     "output_type": "display_data"
    },
    {
     "data": {
      "image/png": "[encoded data removed]",
      "text/plain": [
       "<Figure size 432x288 with 1 Axes>"
      ]
     },
     "metadata": {
      "needs_background": "light"
     },
     "output_type": "display_data"
    },
    {
     "data": {
      "image/png": "[encoded data removed]",
      "text/plain": [
       "<Figure size 432x288 with 1 Axes>"
      ]
     },
     "metadata": {
      "needs_background": "light"
     },
     "output_type": "display_data"
    },
    {
     "data": {
      "image/png": "[encoded data removed]",
      "text/plain": [
       "<Figure size 432x288 with 1 Axes>"
      ]
     },
     "metadata": {
      "needs_background": "light"
     },
     "output_type": "display_data"
    },
    {
     "data": {
      "image/png": "[encoded data removed]",
      "text/plain": [
       "<Figure size 432x288 with 1 Axes>"
      ]
     },
     "metadata": {
      "needs_background": "light"
     },
     "output_type": "display_data"
    }
   ],
   "source": [
    "vertex_windows, window_list = get_vertices(img, window_size=7, window_mask=True, window_list=True)\n",
    "for window in window_list['imgs']:\n",
    "    plt.imshow(window)\n",
    "    plt.show()"
   ]
  },
  {
   "cell_type": "code",
   "execution_count": 71,
   "metadata": {},
   "outputs": [],
   "source": [
    "img, encoded_inchi = mol_train[0]"
   ]
  },
  {
   "cell_type": "code",
   "execution_count": 72,
   "metadata": {},
   "outputs": [
    {
     "data": {
      "text/plain": [
       "torch.Size([5, 256, 256])"
      ]
     },
     "execution_count": 72,
     "metadata": {},
     "output_type": "execute_result"
    }
   ],
   "source": [
    "img.shape"
   ]
  },
  {
   "cell_type": "code",
   "execution_count": 74,
   "metadata": {},
   "outputs": [
    {
     "data": {
      "image/png": "[encoded data removed]",
      "text/plain": [
       "<Figure size 432x288 with 1 Axes>"
      ]
     },
     "metadata": {
      "needs_background": "light"
     },
     "output_type": "display_data"
    }
   ],
   "source": [
    "plt.imshow(img[0,:,:])\n",
    "plt.show()"
   ]
  },
  {
   "cell_type": "code",
   "execution_count": 73,
   "metadata": {},
   "outputs": [
    {
     "data": {
      "image/png": "[encoded data removed]",
      "text/plain": [
       "<Figure size 432x288 with 1 Axes>"
      ]
     },
     "metadata": {
      "needs_background": "light"
     },
     "output_type": "display_data"
    }
   ],
   "source": [
    "plt.imshow(img[1,:,:])\n",
    "plt.show()"
   ]
  },
  {
   "cell_type": "code",
   "execution_count": null,
   "metadata": {},
   "outputs": [],
   "source": []
  },
  {
   "cell_type": "markdown",
   "metadata": {},
   "source": [
    "### PubChemPy Supplementation"
   ]
  },
  {
   "cell_type": "code",
   "execution_count": 7,
   "metadata": {},
   "outputs": [],
   "source": [
    "import pubchempy as pcp"
   ]
  },
  {
   "cell_type": "code",
   "execution_count": 47,
   "metadata": {},
   "outputs": [
    {
     "name": "stdout",
     "output_type": "stream",
     "text": [
      "([Compound(82265033)], 'InChI=1S/C13H20OS/c1-9(2)8-15-13-6-5-10(3)7-12(13)11(4)14/h5-7,9,11,14H,8H2,1-4H3')\n",
      "([Compound(124916588)], 'InChI=1S/C21H30O4/c1-12(22)25-14-6-8-20(2)13(10-14)11-17(23)19-15-4-5-18(24)21(15,3)9-7-16(19)20/h13-16,19H,4-11H2,1-3H3/t13-,14+,15+,16-,19-,20+,21+/m1/s1')\n",
      "([Compound(118087079)], 'InChI=1S/C24H23N5O4/c1-14-13-15(7-8-17(14)28-12-10-20(28)30)27-11-9-16-21(23(25)31)26-29(22(16)24(27)32)18-5-3-4-6-19(18)33-2/h3-8,13H,9-12H2,1-2H3,(H2,25,31)')\n",
      "([Compound(120539154)], 'InChI=1S/C17H24N2O4S/c1-12(20)18-13(14-7-6-10-24-14)11-15(21)19-17(16(22)23)8-4-2-3-5-9-17/h6-7,10,13H,2-5,8-9,11H2,1H3,(H,18,20)(H,19,21)(H,22,23)')\n",
      "([Compound(104350096)], 'InChI=1S/C10H19N3O2S/c1-15-10(14)12-8-4-6-13(7-8)5-2-3-9(11)16/h8H,2-7H2,1H3,(H2,11,16)(H,12,14)')\n",
      "([Compound(138826725)], 'InChI=1S/C19H22Br2N2O2/c1-13(2)10-16(19(24)25)23(9-8-14-6-4-3-5-7-14)15-11-17(20)22-18(21)12-15/h3-7,11-13,16H,8-10H2,1-2H3,(H,24,25)')\n",
      "([Compound(133560351)], 'InChI=1S/C17H10BrN3O/c18-14-7-3-1-5-11(14)9-12(10-19)16-20-15-8-4-2-6-13(15)17(22)21-16/h1-9,13H/b12-9+')\n",
      "([Compound(46556458)], 'InChI=1S/C21H21N5O2S/c1-15-7-8-18(17-5-4-11-22-20(15)17)29(27,28)25-13-9-16(10-14-25)21-24-23-19-6-2-3-12-26(19)21/h2-8,11-12,16H,9-10,13-14H2,1H3')\n",
      "([Compound(119224047)], 'InChI=1S/C13H18N2O5S/c1-4-10(13(17)18)15-12(16)9-5-7(2)8(3)11(6-9)21(14,19)20/h5-6,10H,4H2,1-3H3,(H,15,16)(H,17,18)(H2,14,19,20)')\n",
      "([Compound(105574221)], 'InChI=1S/C13H15BrN2O3/c1-7-5-15-6-9(7)12(17)16-11-3-2-8(13(18)19)4-10(11)14/h2-4,7,9,15H,5-6H2,1H3,(H,16,17)(H,18,19)/t7-,9-/m1/s1')\n",
      "([Compound(129356757)], 'InChI=1S/C13H12BrF3N4OS/c14-8-4-9(23-6-8)12(22)18-5-11-20-19-10-3-7(13(15,16)17)1-2-21(10)11/h4,6-7H,1-3,5H2,(H,18,22)/t7-/m0/s1')\n",
      "([Compound(80065140)], 'InChI=1S/C15H15F2NS/c1-10(18-2)11-6-7-15(14(17)8-11)19-13-5-3-4-12(16)9-13/h3-10,18H,1-2H3')\n",
      "([Compound(54882894)], 'InChI=1S/C14H20N2S/c1-2-13-7-4-8-16(13)10-11-5-3-6-12(9-11)14(15)17/h3,5-6,9,13H,2,4,7-8,10H2,1H3,(H2,15,17)')\n",
      "([Compound(95168145)], 'InChI=1S/C16H12O7/c1-22-14-5-9(18)8(4-10(14)19)13-6-12(21)16-11(20)2-7(17)3-15(16)23-13/h2-5,13,17,20H,6H2,1H3/t13-/m1/s1')\n",
      "([Compound(54785854)], 'InChI=1S/C18H19Cl2NO2/c1-12(2)9-10-23-14-6-3-5-13(11-14)18(22)21-17-15(19)7-4-8-16(17)20/h3-8,11-12H,9-10H2,1-2H3,(H,21,22)')\n",
      "([Compound(107550114)], 'InChI=1S/C10H15N5S/c1-7-6-8(9(11)12)14-10(13-7)15-2-4-16-5-3-15/h6H,2-5H2,1H3,(H3,11,12)')\n",
      "([Compound(16514567)], 'InChI=1S/C22H25NO5S/c1-29(26,27)20-14-12-17(13-15-20)22(25)28-16-21(24)23(18-8-4-2-5-9-18)19-10-6-3-7-11-19/h2,4-5,8-9,12-15,19H,3,6-7,10-11,16H2,1H3')\n",
      "([Compound(138242598)], 'InChI=1S/C59H108O6/c1-4-7-10-13-16-19-22-25-28-30-32-34-37-40-43-46-49-52-58(61)64-55-56(54-63-57(60)51-48-45-42-39-36-33-27-24-21-18-15-12-9-6-3)65-59(62)53-50-47-44-41-38-35-31-29-26-23-20-17-14-11-8-5-2/h16,19,25,28,33,36,56H,4-15,17-18,20-24,26-27,29-32,34-35,37-55H2,1-3H3/b19-16-,28-25-,36-33-')\n",
      "([Compound(92166047)], 'InChI=1S/C16H23NO3/c1-4-17(5-2)14(18)11-12(3)15(16(19)20)13-9-7-6-8-10-13/h6-10,12,15H,4-5,11H2,1-3H3,(H,19,20)/t12-,15-/m0/s1')\n",
      "([Compound(109346603)], 'InChI=1S/C18H14Cl2N4O/c19-13-6-7-14(20)15(8-13)24-18(25)16-9-17(23-11-22-16)21-10-12-4-2-1-3-5-12/h1-9,11H,10H2,(H,24,25)(H,21,22,23)')\n",
      "([Compound(70747334)], 'InChI=1S/C21H29N5O/c27-21(20(19-8-4-5-9-19)18-6-2-1-3-7-18)25-13-10-24(11-14-25)12-15-26-17-22-16-23-26/h1-3,6-7,16-17,19-20H,4-5,8-15H2')\n",
      "([Compound(21485790)], 'InChI=1S/C13H14O2/c14-12-8-9-13(15)11(12)7-6-10-4-2-1-3-5-10/h1-5,11H,6-9H2')\n",
      "([Compound(97886659)], 'InChI=1S/C13H19N3O4/c17-12(18)6-16-11(14-13(15-16)9-3-4-9)8-19-7-10-2-1-5-20-10/h9-10H,1-8H2,(H,17,18)/t10-/m1/s1')\n",
      "([Compound(60782210)], 'InChI=1S/C9H7BrClN3S/c10-7-3-1-6(2-4-7)5-12-9-8(11)13-15-14-9/h1-4H,5H2,(H,12,14)')\n",
      "([Compound(121427321)], 'InChI=1S/C12H12O2S/c1-3-8-5-4-6-9-7-10(12(13)14-2)15-11(8)9/h4-7H,3H2,1-2H3')\n",
      "([Compound(86655366)], 'InChI=1S/C29H24N4O4S/c1-36-23-10-7-20(31-27(35)18-3-2-4-19(13-18)29(16-30)11-12-29)14-24(23)37-21-8-9-22-25(15-21)38-28(32-22)33-26(34)17-5-6-17/h2-4,7-10,13-15,17H,5-6,11-12H2,1H3,(H,31,35)(H,32,33,34)')\n",
      "([Compound(10078427)], 'InChI=1S/C38H42N4O9/c1-25(41-37(49)27-14-5-6-17-30(27)43)38(50)42(23-11-21-40-35(47)28-15-9-18-31(44)33(28)46)22-8-7-20-39-36(48)29-16-10-19-32(45)34(29)51-24-26-12-3-2-4-13-26/h2-6,9-10,12-19,25,43-46H,7-8,11,20-24H2,1H3,(H,39,48)(H,40,47)(H,41,49)/t25-/m0/s1')\n",
      "([Compound(130393343)], 'InChI=1S/C39H25N5/c1-2-13-30(14-3-1)44-34-18-7-6-17-33(34)41-39(44)29-12-10-11-28(25-29)26-20-22-27(23-21-26)36-38-37(31-15-4-5-16-32(31)40-36)42-35-19-8-9-24-43(35)38/h1-25H')\n",
      "([Compound(5105269)], 'InChI=1S/C31H40FNO4/c1-30-16-13-23(34)19-21(30)5-8-24-25-9-10-27(31(25,2)17-14-26(24)30)37-29(36)12-11-28(35)33-18-15-20-3-6-22(32)7-4-20/h3-4,6-7,19,24-27H,5,8-18H2,1-2H3,(H,33,35)')\n",
      "([Compound(62421590)], 'InChI=1S/C15H32N2/c1-4-15-10-6-9-13-17(15)12-8-5-7-11-16-14(2)3/h14-16H,4-13H2,1-3H3')\n",
      "([Compound(127818463)], 'InChI=1S/C15H25N3O2S2/c1-22(19,20)16-8-7-13-4-2-3-9-18(13)10-15-17-14(11-21-15)12-5-6-12/h11-13,16H,2-10H2,1H3')\n",
      "([Compound(61735670)], 'InChI=1S/C13H20N2O6/c1-2-20-12(18)9-4-3-5-15(9)13(19)14-6-7-21-10(8-14)11(16)17/h9-10H,2-8H2,1H3,(H,16,17)')\n",
      "([Compound(105551750)], 'InChI=1S/C19H26O2/c1-11-4-12(2)18(17(5-11)21-3)19(20)15-7-13-6-14(9-15)10-16(19)8-13/h4-5,13-16,20H,6-10H2,1-3H3')\n",
      "([Compound(137818877)], 'InChI=1S/C19H27N3O2/c1-24-17-4-2-3-13(8-17)12-20-22-18(23)21-19-9-14-5-15(10-19)7-16(6-14)11-19/h2-4,8,14-16,20H,5-7,9-12H2,1H3,(H2,21,22,23)')\n",
      "([Compound(131288293)], 'InChI=1S/C7H6BrF3N2O2/c1-14-6-4(12)5(3(8)2-13-6)15-7(9,10)11/h2H,12H2,1H3')\n",
      "([Compound(106306445)], 'InChI=1S/C10H15Cl2N3O2/c1-16-10-14-7-8(12)9(15-10)13-4-2-5-17-6-3-11/h7H,2-6H2,1H3,(H,13,14,15)')\n",
      "([Compound(126270143)], 'InChI=1S/C29H28N2O4S2/c1-5-34-25-15-21(16-26-28(33)31(29(36)37-26)22-10-6-18(2)7-11-22)9-13-24(25)35-17-27(32)30-23-12-8-19(3)14-20(23)4/h6-16H,5,17H2,1-4H3,(H,30,32)/b26-16-')\n",
      "([Compound(95788364)], 'InChI=1S/C15H25N3OS/c1-15(2,11-7-8-11)17-14(19)16-10-12(18(3)4)13-6-5-9-20-13/h5-6,9,11-12H,7-8,10H2,1-4H3,(H2,16,17,19)/t12-/m0/s1')\n",
      "([Compound(91856293)], 'InChI=1S/C16H30N2O11/c1-6(21)17-8(3-19)12(24)13(25)9(23)5-28-16-11(18-7(2)22)15(27)14(26)10(4-20)29-16/h8-16,19-20,23-27H,3-5H2,1-2H3,(H,17,21)(H,18,22)/t8-,9+,10+,11+,12+,13-,14+,15+,16+/m0/s1')\n",
      "([Compound(123600663)], 'InChI=1S/C15H28OS/c1-7-8-9-16-15-12(2)10-14(11-13(15)3)17(4,5)6/h10,13H,7-9,11H2,1-6H3')\n",
      "([Compound(83256172)], 'InChI=1S/C17H32N2O/c1-5-8-15-18-17(4,7-3)16(20)19(15)14-11-9-13(6-2)10-12-14/h13-15,18H,5-12H2,1-4H3')\n",
      "([Compound(93604742)], 'InChI=1S/C16H25NO3/c1-12-7-13(2)9-16(8-12)20-11-15(19)10-17-5-3-14(18)4-6-17/h7-9,14-15,18-19H,3-6,10-11H2,1-2H3/t15-/m1/s1')\n",
      "([Compound()], 'InChI=1S/C24H43N5O2/c1-21(2)15-11-19(28-30)23(5,13-17(15)21)26-9-7-25-8-10-27-24(6)14-18-16(22(18,3)4)12-20(24)29-31/h15-18,25-27,30-31H,7-14H2,1-6H3/b28-19+,29-20+/t15-,16-,17+,18+,23+,24+/m1/s1')\n",
      "([Compound(97838538)], 'InChI=1S/C17H26N2O3/c1-4-14-10-15(6-5-12(14)2)18-17(21)19-7-8-22-11-16(19)9-13(3)20/h5-6,10,13,16,20H,4,7-9,11H2,1-3H3,(H,18,21)/t13-,16-/m0/s1')\n",
      "([Compound(127454975)], 'InChI=1S/C14H23N3O2/c1-10(2)17-9-8-12(13(17)18)16-14(19)15-11-6-4-3-5-7-11/h4,6,10-12H,3,5,7-9H2,1-2H3,(H2,15,16,19)')\n",
      "([Compound(123634891)], 'InChI=1S/C5H18O2P2Si2/c1-6-11(5,9-8)7-10(2,3)4/h9H,8H2,1-5H3')\n",
      "([Compound(7577693)], 'InChI=1S/C22H23N3O2S/c1-14-4-9-19-20(15(14)2)23-22(28-19)25-12-10-24(11-13-25)21(27)18-7-5-17(6-8-18)16(3)26/h4-9H,10-13H2,1-3H3')\n",
      "([Compound(16624787)], 'InChI=1S/C16H12ClF2N3O2/c17-10-6-5-9(7-11(10)20)15(23)24-8-14-21-12-3-1-2-4-13(12)22(14)16(18)19/h1-7,16H,8,20H2')\n"
     ]
    },
    {
     "ename": "KeyboardInterrupt",
     "evalue": "",
     "output_type": "error",
     "traceback": [
      "\u001b[0;31m---------------------------------------------------------------------------\u001b[0m",
      "\u001b[0;31mKeyboardInterrupt\u001b[0m                         Traceback (most recent call last)",
      "\u001b[0;32m<ipython-input-47-760be328fe1b>\u001b[0m in \u001b[0;36m<module>\u001b[0;34m\u001b[0m\n\u001b[1;32m      1\u001b[0m \u001b[0;32mfor\u001b[0m \u001b[0minchi\u001b[0m \u001b[0;32min\u001b[0m \u001b[0mtrain_labels\u001b[0m\u001b[0;34m.\u001b[0m\u001b[0mInChI\u001b[0m\u001b[0;34m:\u001b[0m\u001b[0;34m\u001b[0m\u001b[0;34m\u001b[0m\u001b[0m\n\u001b[0;32m----> 2\u001b[0;31m     \u001b[0mc\u001b[0m \u001b[0;34m=\u001b[0m \u001b[0mpcp\u001b[0m\u001b[0;34m.\u001b[0m\u001b[0mget_compounds\u001b[0m\u001b[0;34m(\u001b[0m\u001b[0minchi\u001b[0m\u001b[0;34m,\u001b[0m \u001b[0;34m'inchi'\u001b[0m\u001b[0;34m)\u001b[0m\u001b[0;34m\u001b[0m\u001b[0;34m\u001b[0m\u001b[0m\n\u001b[0m\u001b[1;32m      3\u001b[0m     \u001b[0mprint\u001b[0m\u001b[0;34m(\u001b[0m\u001b[0;34m(\u001b[0m\u001b[0mc\u001b[0m\u001b[0;34m,\u001b[0m \u001b[0minchi\u001b[0m\u001b[0;34m)\u001b[0m\u001b[0;34m)\u001b[0m\u001b[0;34m\u001b[0m\u001b[0;34m\u001b[0m\u001b[0m\n",
      "\u001b[0;32m~/anaconda3/lib/python3.7/site-packages/pubchempy.py\u001b[0m in \u001b[0;36mget_compounds\u001b[0;34m(identifier, namespace, searchtype, as_dataframe, **kwargs)\u001b[0m\n\u001b[1;32m    319\u001b[0m                          \u001b[0;34m:\u001b[0m\u001b[0;32mclass\u001b[0m\u001b[0;34m:\u001b[0m\u001b[0;31m`\u001b[0m\u001b[0;34m~\u001b[0m\u001b[0mpandas\u001b[0m\u001b[0;34m.\u001b[0m\u001b[0mDataFrame\u001b[0m\u001b[0;31m`\u001b[0m \u001b[0;32mand\u001b[0m \u001b[0;32mreturn\u001b[0m \u001b[0mthat\u001b[0m\u001b[0;34m.\u001b[0m\u001b[0;34m\u001b[0m\u001b[0;34m\u001b[0m\u001b[0m\n\u001b[1;32m    320\u001b[0m     \"\"\"\n\u001b[0;32m--> 321\u001b[0;31m     \u001b[0mresults\u001b[0m \u001b[0;34m=\u001b[0m \u001b[0mget_json\u001b[0m\u001b[0;34m(\u001b[0m\u001b[0midentifier\u001b[0m\u001b[0;34m,\u001b[0m \u001b[0mnamespace\u001b[0m\u001b[0;34m,\u001b[0m \u001b[0msearchtype\u001b[0m\u001b[0;34m=\u001b[0m\u001b[0msearchtype\u001b[0m\u001b[0;34m,\u001b[0m \u001b[0;34m**\u001b[0m\u001b[0mkwargs\u001b[0m\u001b[0;34m)\u001b[0m\u001b[0;34m\u001b[0m\u001b[0;34m\u001b[0m\u001b[0m\n\u001b[0m\u001b[1;32m    322\u001b[0m     \u001b[0mcompounds\u001b[0m \u001b[0;34m=\u001b[0m \u001b[0;34m[\u001b[0m\u001b[0mCompound\u001b[0m\u001b[0;34m(\u001b[0m\u001b[0mr\u001b[0m\u001b[0;34m)\u001b[0m \u001b[0;32mfor\u001b[0m \u001b[0mr\u001b[0m \u001b[0;32min\u001b[0m \u001b[0mresults\u001b[0m\u001b[0;34m[\u001b[0m\u001b[0;34m'PC_Compounds'\u001b[0m\u001b[0;34m]\u001b[0m\u001b[0;34m]\u001b[0m \u001b[0;32mif\u001b[0m \u001b[0mresults\u001b[0m \u001b[0;32melse\u001b[0m \u001b[0;34m[\u001b[0m\u001b[0;34m]\u001b[0m\u001b[0;34m\u001b[0m\u001b[0;34m\u001b[0m\u001b[0m\n\u001b[1;32m    323\u001b[0m     \u001b[0;32mif\u001b[0m \u001b[0mas_dataframe\u001b[0m\u001b[0;34m:\u001b[0m\u001b[0;34m\u001b[0m\u001b[0;34m\u001b[0m\u001b[0m\n",
      "\u001b[0;32m~/anaconda3/lib/python3.7/site-packages/pubchempy.py\u001b[0m in \u001b[0;36mget_json\u001b[0;34m(identifier, namespace, domain, operation, searchtype, **kwargs)\u001b[0m\n\u001b[1;32m    297\u001b[0m     \u001b[0;34m\"\"\"Request wrapper that automatically parses JSON response and supresses NotFoundError.\"\"\"\u001b[0m\u001b[0;34m\u001b[0m\u001b[0;34m\u001b[0m\u001b[0m\n\u001b[1;32m    298\u001b[0m     \u001b[0;32mtry\u001b[0m\u001b[0;34m:\u001b[0m\u001b[0;34m\u001b[0m\u001b[0;34m\u001b[0m\u001b[0m\n\u001b[0;32m--> 299\u001b[0;31m         \u001b[0;32mreturn\u001b[0m \u001b[0mjson\u001b[0m\u001b[0;34m.\u001b[0m\u001b[0mloads\u001b[0m\u001b[0;34m(\u001b[0m\u001b[0mget\u001b[0m\u001b[0;34m(\u001b[0m\u001b[0midentifier\u001b[0m\u001b[0;34m,\u001b[0m \u001b[0mnamespace\u001b[0m\u001b[0;34m,\u001b[0m \u001b[0mdomain\u001b[0m\u001b[0;34m,\u001b[0m \u001b[0moperation\u001b[0m\u001b[0;34m,\u001b[0m \u001b[0;34m'JSON'\u001b[0m\u001b[0;34m,\u001b[0m \u001b[0msearchtype\u001b[0m\u001b[0;34m,\u001b[0m \u001b[0;34m**\u001b[0m\u001b[0mkwargs\u001b[0m\u001b[0;34m)\u001b[0m\u001b[0;34m.\u001b[0m\u001b[0mdecode\u001b[0m\u001b[0;34m(\u001b[0m\u001b[0;34m)\u001b[0m\u001b[0;34m)\u001b[0m\u001b[0;34m\u001b[0m\u001b[0;34m\u001b[0m\u001b[0m\n\u001b[0m\u001b[1;32m    300\u001b[0m     \u001b[0;32mexcept\u001b[0m \u001b[0mNotFoundError\u001b[0m \u001b[0;32mas\u001b[0m \u001b[0me\u001b[0m\u001b[0;34m:\u001b[0m\u001b[0;34m\u001b[0m\u001b[0;34m\u001b[0m\u001b[0m\n\u001b[1;32m    301\u001b[0m         \u001b[0mlog\u001b[0m\u001b[0;34m.\u001b[0m\u001b[0minfo\u001b[0m\u001b[0;34m(\u001b[0m\u001b[0me\u001b[0m\u001b[0;34m)\u001b[0m\u001b[0;34m\u001b[0m\u001b[0;34m\u001b[0m\u001b[0m\n",
      "\u001b[0;32m~/anaconda3/lib/python3.7/site-packages/pubchempy.py\u001b[0m in \u001b[0;36mget\u001b[0;34m(identifier, namespace, domain, operation, output, searchtype, **kwargs)\u001b[0m\n\u001b[1;32m    290\u001b[0m                 \u001b[0mresponse\u001b[0m \u001b[0;34m=\u001b[0m \u001b[0mrequest\u001b[0m\u001b[0;34m(\u001b[0m\u001b[0midentifier\u001b[0m\u001b[0;34m,\u001b[0m \u001b[0mnamespace\u001b[0m\u001b[0;34m,\u001b[0m \u001b[0mdomain\u001b[0m\u001b[0;34m,\u001b[0m \u001b[0moperation\u001b[0m\u001b[0;34m,\u001b[0m \u001b[0moutput\u001b[0m\u001b[0;34m,\u001b[0m \u001b[0msearchtype\u001b[0m\u001b[0;34m,\u001b[0m \u001b[0;34m**\u001b[0m\u001b[0mkwargs\u001b[0m\u001b[0;34m)\u001b[0m\u001b[0;34m.\u001b[0m\u001b[0mread\u001b[0m\u001b[0;34m(\u001b[0m\u001b[0;34m)\u001b[0m\u001b[0;34m\u001b[0m\u001b[0;34m\u001b[0m\u001b[0m\n\u001b[1;32m    291\u001b[0m     \u001b[0;32melse\u001b[0m\u001b[0;34m:\u001b[0m\u001b[0;34m\u001b[0m\u001b[0;34m\u001b[0m\u001b[0m\n\u001b[0;32m--> 292\u001b[0;31m         \u001b[0mresponse\u001b[0m \u001b[0;34m=\u001b[0m \u001b[0mrequest\u001b[0m\u001b[0;34m(\u001b[0m\u001b[0midentifier\u001b[0m\u001b[0;34m,\u001b[0m \u001b[0mnamespace\u001b[0m\u001b[0;34m,\u001b[0m \u001b[0mdomain\u001b[0m\u001b[0;34m,\u001b[0m \u001b[0moperation\u001b[0m\u001b[0;34m,\u001b[0m \u001b[0moutput\u001b[0m\u001b[0;34m,\u001b[0m \u001b[0msearchtype\u001b[0m\u001b[0;34m,\u001b[0m \u001b[0;34m**\u001b[0m\u001b[0mkwargs\u001b[0m\u001b[0;34m)\u001b[0m\u001b[0;34m.\u001b[0m\u001b[0mread\u001b[0m\u001b[0;34m(\u001b[0m\u001b[0;34m)\u001b[0m\u001b[0;34m\u001b[0m\u001b[0;34m\u001b[0m\u001b[0m\n\u001b[0m\u001b[1;32m    293\u001b[0m     \u001b[0;32mreturn\u001b[0m \u001b[0mresponse\u001b[0m\u001b[0;34m\u001b[0m\u001b[0;34m\u001b[0m\u001b[0m\n\u001b[1;32m    294\u001b[0m \u001b[0;34m\u001b[0m\u001b[0m\n",
      "\u001b[0;32m~/anaconda3/lib/python3.7/site-packages/pubchempy.py\u001b[0m in \u001b[0;36mrequest\u001b[0;34m(identifier, namespace, domain, operation, output, searchtype, **kwargs)\u001b[0m\n\u001b[1;32m    269\u001b[0m         \u001b[0mlog\u001b[0m\u001b[0;34m.\u001b[0m\u001b[0mdebug\u001b[0m\u001b[0;34m(\u001b[0m\u001b[0;34m'Request URL: %s'\u001b[0m\u001b[0;34m,\u001b[0m \u001b[0mapiurl\u001b[0m\u001b[0;34m)\u001b[0m\u001b[0;34m\u001b[0m\u001b[0;34m\u001b[0m\u001b[0m\n\u001b[1;32m    270\u001b[0m         \u001b[0mlog\u001b[0m\u001b[0;34m.\u001b[0m\u001b[0mdebug\u001b[0m\u001b[0;34m(\u001b[0m\u001b[0;34m'Request data: %s'\u001b[0m\u001b[0;34m,\u001b[0m \u001b[0mpostdata\u001b[0m\u001b[0;34m)\u001b[0m\u001b[0;34m\u001b[0m\u001b[0;34m\u001b[0m\u001b[0m\n\u001b[0;32m--> 271\u001b[0;31m         \u001b[0mresponse\u001b[0m \u001b[0;34m=\u001b[0m \u001b[0murlopen\u001b[0m\u001b[0;34m(\u001b[0m\u001b[0mapiurl\u001b[0m\u001b[0;34m,\u001b[0m \u001b[0mpostdata\u001b[0m\u001b[0;34m)\u001b[0m\u001b[0;34m\u001b[0m\u001b[0;34m\u001b[0m\u001b[0m\n\u001b[0m\u001b[1;32m    272\u001b[0m         \u001b[0;32mreturn\u001b[0m \u001b[0mresponse\u001b[0m\u001b[0;34m\u001b[0m\u001b[0;34m\u001b[0m\u001b[0m\n\u001b[1;32m    273\u001b[0m     \u001b[0;32mexcept\u001b[0m \u001b[0mHTTPError\u001b[0m \u001b[0;32mas\u001b[0m \u001b[0me\u001b[0m\u001b[0;34m:\u001b[0m\u001b[0;34m\u001b[0m\u001b[0;34m\u001b[0m\u001b[0m\n",
      "\u001b[0;32m~/anaconda3/lib/python3.7/urllib/request.py\u001b[0m in \u001b[0;36murlopen\u001b[0;34m(url, data, timeout, cafile, capath, cadefault, context)\u001b[0m\n\u001b[1;32m    220\u001b[0m     \u001b[0;32melse\u001b[0m\u001b[0;34m:\u001b[0m\u001b[0;34m\u001b[0m\u001b[0;34m\u001b[0m\u001b[0m\n\u001b[1;32m    221\u001b[0m         \u001b[0mopener\u001b[0m \u001b[0;34m=\u001b[0m \u001b[0m_opener\u001b[0m\u001b[0;34m\u001b[0m\u001b[0;34m\u001b[0m\u001b[0m\n\u001b[0;32m--> 222\u001b[0;31m     \u001b[0;32mreturn\u001b[0m \u001b[0mopener\u001b[0m\u001b[0;34m.\u001b[0m\u001b[0mopen\u001b[0m\u001b[0;34m(\u001b[0m\u001b[0murl\u001b[0m\u001b[0;34m,\u001b[0m \u001b[0mdata\u001b[0m\u001b[0;34m,\u001b[0m \u001b[0mtimeout\u001b[0m\u001b[0;34m)\u001b[0m\u001b[0;34m\u001b[0m\u001b[0;34m\u001b[0m\u001b[0m\n\u001b[0m\u001b[1;32m    223\u001b[0m \u001b[0;34m\u001b[0m\u001b[0m\n\u001b[1;32m    224\u001b[0m \u001b[0;32mdef\u001b[0m \u001b[0minstall_opener\u001b[0m\u001b[0;34m(\u001b[0m\u001b[0mopener\u001b[0m\u001b[0;34m)\u001b[0m\u001b[0;34m:\u001b[0m\u001b[0;34m\u001b[0m\u001b[0;34m\u001b[0m\u001b[0m\n",
      "\u001b[0;32m~/anaconda3/lib/python3.7/urllib/request.py\u001b[0m in \u001b[0;36mopen\u001b[0;34m(self, fullurl, data, timeout)\u001b[0m\n\u001b[1;32m    523\u001b[0m             \u001b[0mreq\u001b[0m \u001b[0;34m=\u001b[0m \u001b[0mmeth\u001b[0m\u001b[0;34m(\u001b[0m\u001b[0mreq\u001b[0m\u001b[0;34m)\u001b[0m\u001b[0;34m\u001b[0m\u001b[0;34m\u001b[0m\u001b[0m\n\u001b[1;32m    524\u001b[0m \u001b[0;34m\u001b[0m\u001b[0m\n\u001b[0;32m--> 525\u001b[0;31m         \u001b[0mresponse\u001b[0m \u001b[0;34m=\u001b[0m \u001b[0mself\u001b[0m\u001b[0;34m.\u001b[0m\u001b[0m_open\u001b[0m\u001b[0;34m(\u001b[0m\u001b[0mreq\u001b[0m\u001b[0;34m,\u001b[0m \u001b[0mdata\u001b[0m\u001b[0;34m)\u001b[0m\u001b[0;34m\u001b[0m\u001b[0;34m\u001b[0m\u001b[0m\n\u001b[0m\u001b[1;32m    526\u001b[0m \u001b[0;34m\u001b[0m\u001b[0m\n\u001b[1;32m    527\u001b[0m         \u001b[0;31m# post-process response\u001b[0m\u001b[0;34m\u001b[0m\u001b[0;34m\u001b[0m\u001b[0;34m\u001b[0m\u001b[0m\n",
      "\u001b[0;32m~/anaconda3/lib/python3.7/urllib/request.py\u001b[0m in \u001b[0;36m_open\u001b[0;34m(self, req, data)\u001b[0m\n\u001b[1;32m    541\u001b[0m         \u001b[0mprotocol\u001b[0m \u001b[0;34m=\u001b[0m \u001b[0mreq\u001b[0m\u001b[0;34m.\u001b[0m\u001b[0mtype\u001b[0m\u001b[0;34m\u001b[0m\u001b[0;34m\u001b[0m\u001b[0m\n\u001b[1;32m    542\u001b[0m         result = self._call_chain(self.handle_open, protocol, protocol +\n\u001b[0;32m--> 543\u001b[0;31m                                   '_open', req)\n\u001b[0m\u001b[1;32m    544\u001b[0m         \u001b[0;32mif\u001b[0m \u001b[0mresult\u001b[0m\u001b[0;34m:\u001b[0m\u001b[0;34m\u001b[0m\u001b[0;34m\u001b[0m\u001b[0m\n\u001b[1;32m    545\u001b[0m             \u001b[0;32mreturn\u001b[0m \u001b[0mresult\u001b[0m\u001b[0;34m\u001b[0m\u001b[0;34m\u001b[0m\u001b[0m\n",
      "\u001b[0;32m~/anaconda3/lib/python3.7/urllib/request.py\u001b[0m in \u001b[0;36m_call_chain\u001b[0;34m(self, chain, kind, meth_name, *args)\u001b[0m\n\u001b[1;32m    501\u001b[0m         \u001b[0;32mfor\u001b[0m \u001b[0mhandler\u001b[0m \u001b[0;32min\u001b[0m \u001b[0mhandlers\u001b[0m\u001b[0;34m:\u001b[0m\u001b[0;34m\u001b[0m\u001b[0;34m\u001b[0m\u001b[0m\n\u001b[1;32m    502\u001b[0m             \u001b[0mfunc\u001b[0m \u001b[0;34m=\u001b[0m \u001b[0mgetattr\u001b[0m\u001b[0;34m(\u001b[0m\u001b[0mhandler\u001b[0m\u001b[0;34m,\u001b[0m \u001b[0mmeth_name\u001b[0m\u001b[0;34m)\u001b[0m\u001b[0;34m\u001b[0m\u001b[0;34m\u001b[0m\u001b[0m\n\u001b[0;32m--> 503\u001b[0;31m             \u001b[0mresult\u001b[0m \u001b[0;34m=\u001b[0m \u001b[0mfunc\u001b[0m\u001b[0;34m(\u001b[0m\u001b[0;34m*\u001b[0m\u001b[0margs\u001b[0m\u001b[0;34m)\u001b[0m\u001b[0;34m\u001b[0m\u001b[0;34m\u001b[0m\u001b[0m\n\u001b[0m\u001b[1;32m    504\u001b[0m             \u001b[0;32mif\u001b[0m \u001b[0mresult\u001b[0m \u001b[0;32mis\u001b[0m \u001b[0;32mnot\u001b[0m \u001b[0;32mNone\u001b[0m\u001b[0;34m:\u001b[0m\u001b[0;34m\u001b[0m\u001b[0;34m\u001b[0m\u001b[0m\n\u001b[1;32m    505\u001b[0m                 \u001b[0;32mreturn\u001b[0m \u001b[0mresult\u001b[0m\u001b[0;34m\u001b[0m\u001b[0;34m\u001b[0m\u001b[0m\n",
      "\u001b[0;32m~/anaconda3/lib/python3.7/urllib/request.py\u001b[0m in \u001b[0;36mhttps_open\u001b[0;34m(self, req)\u001b[0m\n\u001b[1;32m   1358\u001b[0m         \u001b[0;32mdef\u001b[0m \u001b[0mhttps_open\u001b[0m\u001b[0;34m(\u001b[0m\u001b[0mself\u001b[0m\u001b[0;34m,\u001b[0m \u001b[0mreq\u001b[0m\u001b[0;34m)\u001b[0m\u001b[0;34m:\u001b[0m\u001b[0;34m\u001b[0m\u001b[0;34m\u001b[0m\u001b[0m\n\u001b[1;32m   1359\u001b[0m             return self.do_open(http.client.HTTPSConnection, req,\n\u001b[0;32m-> 1360\u001b[0;31m                 context=self._context, check_hostname=self._check_hostname)\n\u001b[0m\u001b[1;32m   1361\u001b[0m \u001b[0;34m\u001b[0m\u001b[0m\n\u001b[1;32m   1362\u001b[0m         \u001b[0mhttps_request\u001b[0m \u001b[0;34m=\u001b[0m \u001b[0mAbstractHTTPHandler\u001b[0m\u001b[0;34m.\u001b[0m\u001b[0mdo_request_\u001b[0m\u001b[0;34m\u001b[0m\u001b[0;34m\u001b[0m\u001b[0m\n",
      "\u001b[0;32m~/anaconda3/lib/python3.7/urllib/request.py\u001b[0m in \u001b[0;36mdo_open\u001b[0;34m(self, http_class, req, **http_conn_args)\u001b[0m\n\u001b[1;32m   1318\u001b[0m             \u001b[0;32mexcept\u001b[0m \u001b[0mOSError\u001b[0m \u001b[0;32mas\u001b[0m \u001b[0merr\u001b[0m\u001b[0;34m:\u001b[0m \u001b[0;31m# timeout error\u001b[0m\u001b[0;34m\u001b[0m\u001b[0;34m\u001b[0m\u001b[0m\n\u001b[1;32m   1319\u001b[0m                 \u001b[0;32mraise\u001b[0m \u001b[0mURLError\u001b[0m\u001b[0;34m(\u001b[0m\u001b[0merr\u001b[0m\u001b[0;34m)\u001b[0m\u001b[0;34m\u001b[0m\u001b[0;34m\u001b[0m\u001b[0m\n\u001b[0;32m-> 1320\u001b[0;31m             \u001b[0mr\u001b[0m \u001b[0;34m=\u001b[0m \u001b[0mh\u001b[0m\u001b[0;34m.\u001b[0m\u001b[0mgetresponse\u001b[0m\u001b[0;34m(\u001b[0m\u001b[0;34m)\u001b[0m\u001b[0;34m\u001b[0m\u001b[0;34m\u001b[0m\u001b[0m\n\u001b[0m\u001b[1;32m   1321\u001b[0m         \u001b[0;32mexcept\u001b[0m\u001b[0;34m:\u001b[0m\u001b[0;34m\u001b[0m\u001b[0;34m\u001b[0m\u001b[0m\n\u001b[1;32m   1322\u001b[0m             \u001b[0mh\u001b[0m\u001b[0;34m.\u001b[0m\u001b[0mclose\u001b[0m\u001b[0;34m(\u001b[0m\u001b[0;34m)\u001b[0m\u001b[0;34m\u001b[0m\u001b[0;34m\u001b[0m\u001b[0m\n",
      "\u001b[0;32m~/anaconda3/lib/python3.7/http/client.py\u001b[0m in \u001b[0;36mgetresponse\u001b[0;34m(self)\u001b[0m\n\u001b[1;32m   1319\u001b[0m         \u001b[0;32mtry\u001b[0m\u001b[0;34m:\u001b[0m\u001b[0;34m\u001b[0m\u001b[0;34m\u001b[0m\u001b[0m\n\u001b[1;32m   1320\u001b[0m             \u001b[0;32mtry\u001b[0m\u001b[0;34m:\u001b[0m\u001b[0;34m\u001b[0m\u001b[0;34m\u001b[0m\u001b[0m\n\u001b[0;32m-> 1321\u001b[0;31m                 \u001b[0mresponse\u001b[0m\u001b[0;34m.\u001b[0m\u001b[0mbegin\u001b[0m\u001b[0;34m(\u001b[0m\u001b[0;34m)\u001b[0m\u001b[0;34m\u001b[0m\u001b[0;34m\u001b[0m\u001b[0m\n\u001b[0m\u001b[1;32m   1322\u001b[0m             \u001b[0;32mexcept\u001b[0m \u001b[0mConnectionError\u001b[0m\u001b[0;34m:\u001b[0m\u001b[0;34m\u001b[0m\u001b[0;34m\u001b[0m\u001b[0m\n\u001b[1;32m   1323\u001b[0m                 \u001b[0mself\u001b[0m\u001b[0;34m.\u001b[0m\u001b[0mclose\u001b[0m\u001b[0;34m(\u001b[0m\u001b[0;34m)\u001b[0m\u001b[0;34m\u001b[0m\u001b[0;34m\u001b[0m\u001b[0m\n",
      "\u001b[0;32m~/anaconda3/lib/python3.7/http/client.py\u001b[0m in \u001b[0;36mbegin\u001b[0;34m(self)\u001b[0m\n\u001b[1;32m    294\u001b[0m         \u001b[0;31m# read until we get a non-100 response\u001b[0m\u001b[0;34m\u001b[0m\u001b[0;34m\u001b[0m\u001b[0;34m\u001b[0m\u001b[0m\n\u001b[1;32m    295\u001b[0m         \u001b[0;32mwhile\u001b[0m \u001b[0;32mTrue\u001b[0m\u001b[0;34m:\u001b[0m\u001b[0;34m\u001b[0m\u001b[0;34m\u001b[0m\u001b[0m\n\u001b[0;32m--> 296\u001b[0;31m             \u001b[0mversion\u001b[0m\u001b[0;34m,\u001b[0m \u001b[0mstatus\u001b[0m\u001b[0;34m,\u001b[0m \u001b[0mreason\u001b[0m \u001b[0;34m=\u001b[0m \u001b[0mself\u001b[0m\u001b[0;34m.\u001b[0m\u001b[0m_read_status\u001b[0m\u001b[0;34m(\u001b[0m\u001b[0;34m)\u001b[0m\u001b[0;34m\u001b[0m\u001b[0;34m\u001b[0m\u001b[0m\n\u001b[0m\u001b[1;32m    297\u001b[0m             \u001b[0;32mif\u001b[0m \u001b[0mstatus\u001b[0m \u001b[0;34m!=\u001b[0m \u001b[0mCONTINUE\u001b[0m\u001b[0;34m:\u001b[0m\u001b[0;34m\u001b[0m\u001b[0;34m\u001b[0m\u001b[0m\n\u001b[1;32m    298\u001b[0m                 \u001b[0;32mbreak\u001b[0m\u001b[0;34m\u001b[0m\u001b[0;34m\u001b[0m\u001b[0m\n",
      "\u001b[0;32m~/anaconda3/lib/python3.7/http/client.py\u001b[0m in \u001b[0;36m_read_status\u001b[0;34m(self)\u001b[0m\n\u001b[1;32m    255\u001b[0m \u001b[0;34m\u001b[0m\u001b[0m\n\u001b[1;32m    256\u001b[0m     \u001b[0;32mdef\u001b[0m \u001b[0m_read_status\u001b[0m\u001b[0;34m(\u001b[0m\u001b[0mself\u001b[0m\u001b[0;34m)\u001b[0m\u001b[0;34m:\u001b[0m\u001b[0;34m\u001b[0m\u001b[0;34m\u001b[0m\u001b[0m\n\u001b[0;32m--> 257\u001b[0;31m         \u001b[0mline\u001b[0m \u001b[0;34m=\u001b[0m \u001b[0mstr\u001b[0m\u001b[0;34m(\u001b[0m\u001b[0mself\u001b[0m\u001b[0;34m.\u001b[0m\u001b[0mfp\u001b[0m\u001b[0;34m.\u001b[0m\u001b[0mreadline\u001b[0m\u001b[0;34m(\u001b[0m\u001b[0m_MAXLINE\u001b[0m \u001b[0;34m+\u001b[0m \u001b[0;36m1\u001b[0m\u001b[0;34m)\u001b[0m\u001b[0;34m,\u001b[0m \u001b[0;34m\"iso-8859-1\"\u001b[0m\u001b[0;34m)\u001b[0m\u001b[0;34m\u001b[0m\u001b[0;34m\u001b[0m\u001b[0m\n\u001b[0m\u001b[1;32m    258\u001b[0m         \u001b[0;32mif\u001b[0m \u001b[0mlen\u001b[0m\u001b[0;34m(\u001b[0m\u001b[0mline\u001b[0m\u001b[0;34m)\u001b[0m \u001b[0;34m>\u001b[0m \u001b[0m_MAXLINE\u001b[0m\u001b[0;34m:\u001b[0m\u001b[0;34m\u001b[0m\u001b[0;34m\u001b[0m\u001b[0m\n\u001b[1;32m    259\u001b[0m             \u001b[0;32mraise\u001b[0m \u001b[0mLineTooLong\u001b[0m\u001b[0;34m(\u001b[0m\u001b[0;34m\"status line\"\u001b[0m\u001b[0;34m)\u001b[0m\u001b[0;34m\u001b[0m\u001b[0;34m\u001b[0m\u001b[0m\n",
      "\u001b[0;32m~/anaconda3/lib/python3.7/socket.py\u001b[0m in \u001b[0;36mreadinto\u001b[0;34m(self, b)\u001b[0m\n\u001b[1;32m    587\u001b[0m         \u001b[0;32mwhile\u001b[0m \u001b[0;32mTrue\u001b[0m\u001b[0;34m:\u001b[0m\u001b[0;34m\u001b[0m\u001b[0;34m\u001b[0m\u001b[0m\n\u001b[1;32m    588\u001b[0m             \u001b[0;32mtry\u001b[0m\u001b[0;34m:\u001b[0m\u001b[0;34m\u001b[0m\u001b[0;34m\u001b[0m\u001b[0m\n\u001b[0;32m--> 589\u001b[0;31m                 \u001b[0;32mreturn\u001b[0m \u001b[0mself\u001b[0m\u001b[0;34m.\u001b[0m\u001b[0m_sock\u001b[0m\u001b[0;34m.\u001b[0m\u001b[0mrecv_into\u001b[0m\u001b[0;34m(\u001b[0m\u001b[0mb\u001b[0m\u001b[0;34m)\u001b[0m\u001b[0;34m\u001b[0m\u001b[0;34m\u001b[0m\u001b[0m\n\u001b[0m\u001b[1;32m    590\u001b[0m             \u001b[0;32mexcept\u001b[0m \u001b[0mtimeout\u001b[0m\u001b[0;34m:\u001b[0m\u001b[0;34m\u001b[0m\u001b[0;34m\u001b[0m\u001b[0m\n\u001b[1;32m    591\u001b[0m                 \u001b[0mself\u001b[0m\u001b[0;34m.\u001b[0m\u001b[0m_timeout_occurred\u001b[0m \u001b[0;34m=\u001b[0m \u001b[0;32mTrue\u001b[0m\u001b[0;34m\u001b[0m\u001b[0;34m\u001b[0m\u001b[0m\n",
      "\u001b[0;32m~/anaconda3/lib/python3.7/ssl.py\u001b[0m in \u001b[0;36mrecv_into\u001b[0;34m(self, buffer, nbytes, flags)\u001b[0m\n\u001b[1;32m   1050\u001b[0m                   \u001b[0;34m\"non-zero flags not allowed in calls to recv_into() on %s\"\u001b[0m \u001b[0;34m%\u001b[0m\u001b[0;34m\u001b[0m\u001b[0;34m\u001b[0m\u001b[0m\n\u001b[1;32m   1051\u001b[0m                   self.__class__)\n\u001b[0;32m-> 1052\u001b[0;31m             \u001b[0;32mreturn\u001b[0m \u001b[0mself\u001b[0m\u001b[0;34m.\u001b[0m\u001b[0mread\u001b[0m\u001b[0;34m(\u001b[0m\u001b[0mnbytes\u001b[0m\u001b[0;34m,\u001b[0m \u001b[0mbuffer\u001b[0m\u001b[0;34m)\u001b[0m\u001b[0;34m\u001b[0m\u001b[0;34m\u001b[0m\u001b[0m\n\u001b[0m\u001b[1;32m   1053\u001b[0m         \u001b[0;32melse\u001b[0m\u001b[0;34m:\u001b[0m\u001b[0;34m\u001b[0m\u001b[0;34m\u001b[0m\u001b[0m\n\u001b[1;32m   1054\u001b[0m             \u001b[0;32mreturn\u001b[0m \u001b[0msuper\u001b[0m\u001b[0;34m(\u001b[0m\u001b[0;34m)\u001b[0m\u001b[0;34m.\u001b[0m\u001b[0mrecv_into\u001b[0m\u001b[0;34m(\u001b[0m\u001b[0mbuffer\u001b[0m\u001b[0;34m,\u001b[0m \u001b[0mnbytes\u001b[0m\u001b[0;34m,\u001b[0m \u001b[0mflags\u001b[0m\u001b[0;34m)\u001b[0m\u001b[0;34m\u001b[0m\u001b[0;34m\u001b[0m\u001b[0m\n",
      "\u001b[0;32m~/anaconda3/lib/python3.7/ssl.py\u001b[0m in \u001b[0;36mread\u001b[0;34m(self, len, buffer)\u001b[0m\n\u001b[1;32m    909\u001b[0m         \u001b[0;32mtry\u001b[0m\u001b[0;34m:\u001b[0m\u001b[0;34m\u001b[0m\u001b[0;34m\u001b[0m\u001b[0m\n\u001b[1;32m    910\u001b[0m             \u001b[0;32mif\u001b[0m \u001b[0mbuffer\u001b[0m \u001b[0;32mis\u001b[0m \u001b[0;32mnot\u001b[0m \u001b[0;32mNone\u001b[0m\u001b[0;34m:\u001b[0m\u001b[0;34m\u001b[0m\u001b[0;34m\u001b[0m\u001b[0m\n\u001b[0;32m--> 911\u001b[0;31m                 \u001b[0;32mreturn\u001b[0m \u001b[0mself\u001b[0m\u001b[0;34m.\u001b[0m\u001b[0m_sslobj\u001b[0m\u001b[0;34m.\u001b[0m\u001b[0mread\u001b[0m\u001b[0;34m(\u001b[0m\u001b[0mlen\u001b[0m\u001b[0;34m,\u001b[0m \u001b[0mbuffer\u001b[0m\u001b[0;34m)\u001b[0m\u001b[0;34m\u001b[0m\u001b[0;34m\u001b[0m\u001b[0m\n\u001b[0m\u001b[1;32m    912\u001b[0m             \u001b[0;32melse\u001b[0m\u001b[0;34m:\u001b[0m\u001b[0;34m\u001b[0m\u001b[0;34m\u001b[0m\u001b[0m\n\u001b[1;32m    913\u001b[0m                 \u001b[0;32mreturn\u001b[0m \u001b[0mself\u001b[0m\u001b[0;34m.\u001b[0m\u001b[0m_sslobj\u001b[0m\u001b[0;34m.\u001b[0m\u001b[0mread\u001b[0m\u001b[0;34m(\u001b[0m\u001b[0mlen\u001b[0m\u001b[0;34m)\u001b[0m\u001b[0;34m\u001b[0m\u001b[0;34m\u001b[0m\u001b[0m\n",
      "\u001b[0;31mKeyboardInterrupt\u001b[0m: "
     ]
    }
   ],
   "source": [
    "for inchi in train_labels.InChI:\n",
    "    c = pcp.get_compounds(inchi, 'inchi')\n",
    "    print((c, inchi))"
   ]
  },
  {
   "cell_type": "code",
   "execution_count": 55,
   "metadata": {},
   "outputs": [
    {
     "data": {
      "text/plain": [
       "{'id': {},\n",
       " 'atoms': {'aid': [1,\n",
       "   2,\n",
       "   3,\n",
       "   4,\n",
       "   5,\n",
       "   6,\n",
       "   7,\n",
       "   8,\n",
       "   9,\n",
       "   10,\n",
       "   11,\n",
       "   12,\n",
       "   13,\n",
       "   14,\n",
       "   15,\n",
       "   16,\n",
       "   17,\n",
       "   18,\n",
       "   19,\n",
       "   20,\n",
       "   21,\n",
       "   22,\n",
       "   23,\n",
       "   24,\n",
       "   25,\n",
       "   26,\n",
       "   27,\n",
       "   28,\n",
       "   29,\n",
       "   30,\n",
       "   31,\n",
       "   32,\n",
       "   33,\n",
       "   34,\n",
       "   35,\n",
       "   36,\n",
       "   37,\n",
       "   38,\n",
       "   39,\n",
       "   40,\n",
       "   41,\n",
       "   42,\n",
       "   43,\n",
       "   44,\n",
       "   45,\n",
       "   46,\n",
       "   47,\n",
       "   48,\n",
       "   49,\n",
       "   50,\n",
       "   51,\n",
       "   52,\n",
       "   53,\n",
       "   54,\n",
       "   55,\n",
       "   56,\n",
       "   57,\n",
       "   58,\n",
       "   59,\n",
       "   60,\n",
       "   61,\n",
       "   62,\n",
       "   63,\n",
       "   64,\n",
       "   65,\n",
       "   66,\n",
       "   67,\n",
       "   68,\n",
       "   69,\n",
       "   70,\n",
       "   71,\n",
       "   72,\n",
       "   73,\n",
       "   74],\n",
       "  'element': [8,\n",
       "   8,\n",
       "   7,\n",
       "   7,\n",
       "   7,\n",
       "   7,\n",
       "   7,\n",
       "   6,\n",
       "   6,\n",
       "   6,\n",
       "   6,\n",
       "   6,\n",
       "   6,\n",
       "   6,\n",
       "   6,\n",
       "   6,\n",
       "   6,\n",
       "   6,\n",
       "   6,\n",
       "   6,\n",
       "   6,\n",
       "   6,\n",
       "   6,\n",
       "   6,\n",
       "   6,\n",
       "   6,\n",
       "   6,\n",
       "   6,\n",
       "   6,\n",
       "   6,\n",
       "   6,\n",
       "   1,\n",
       "   1,\n",
       "   1,\n",
       "   1,\n",
       "   1,\n",
       "   1,\n",
       "   1,\n",
       "   1,\n",
       "   1,\n",
       "   1,\n",
       "   1,\n",
       "   1,\n",
       "   1,\n",
       "   1,\n",
       "   1,\n",
       "   1,\n",
       "   1,\n",
       "   1,\n",
       "   1,\n",
       "   1,\n",
       "   1,\n",
       "   1,\n",
       "   1,\n",
       "   1,\n",
       "   1,\n",
       "   1,\n",
       "   1,\n",
       "   1,\n",
       "   1,\n",
       "   1,\n",
       "   1,\n",
       "   1,\n",
       "   1,\n",
       "   1,\n",
       "   1,\n",
       "   1,\n",
       "   1,\n",
       "   1,\n",
       "   1,\n",
       "   1,\n",
       "   1,\n",
       "   1,\n",
       "   1]},\n",
       " 'bonds': {'aid1': [1,\n",
       "   1,\n",
       "   2,\n",
       "   2,\n",
       "   3,\n",
       "   3,\n",
       "   3,\n",
       "   4,\n",
       "   4,\n",
       "   4,\n",
       "   5,\n",
       "   6,\n",
       "   7,\n",
       "   7,\n",
       "   7,\n",
       "   8,\n",
       "   8,\n",
       "   8,\n",
       "   8,\n",
       "   9,\n",
       "   9,\n",
       "   9,\n",
       "   10,\n",
       "   10,\n",
       "   10,\n",
       "   10,\n",
       "   11,\n",
       "   11,\n",
       "   11,\n",
       "   12,\n",
       "   12,\n",
       "   13,\n",
       "   13,\n",
       "   14,\n",
       "   14,\n",
       "   14,\n",
       "   15,\n",
       "   15,\n",
       "   15,\n",
       "   16,\n",
       "   16,\n",
       "   16,\n",
       "   17,\n",
       "   17,\n",
       "   17,\n",
       "   18,\n",
       "   18,\n",
       "   19,\n",
       "   19,\n",
       "   20,\n",
       "   20,\n",
       "   20,\n",
       "   21,\n",
       "   21,\n",
       "   21,\n",
       "   22,\n",
       "   22,\n",
       "   22,\n",
       "   23,\n",
       "   23,\n",
       "   23,\n",
       "   26,\n",
       "   26,\n",
       "   26,\n",
       "   27,\n",
       "   27,\n",
       "   27,\n",
       "   28,\n",
       "   28,\n",
       "   28,\n",
       "   29,\n",
       "   29,\n",
       "   29,\n",
       "   30,\n",
       "   30,\n",
       "   31,\n",
       "   31],\n",
       "  'aid2': [5,\n",
       "   73,\n",
       "   6,\n",
       "   74,\n",
       "   18,\n",
       "   28,\n",
       "   62,\n",
       "   19,\n",
       "   29,\n",
       "   63,\n",
       "   24,\n",
       "   25,\n",
       "   30,\n",
       "   31,\n",
       "   72,\n",
       "   9,\n",
       "   12,\n",
       "   14,\n",
       "   32,\n",
       "   12,\n",
       "   20,\n",
       "   21,\n",
       "   11,\n",
       "   13,\n",
       "   15,\n",
       "   33,\n",
       "   13,\n",
       "   22,\n",
       "   23,\n",
       "   16,\n",
       "   34,\n",
       "   17,\n",
       "   35,\n",
       "   18,\n",
       "   36,\n",
       "   37,\n",
       "   19,\n",
       "   38,\n",
       "   39,\n",
       "   24,\n",
       "   40,\n",
       "   41,\n",
       "   25,\n",
       "   42,\n",
       "   43,\n",
       "   24,\n",
       "   26,\n",
       "   25,\n",
       "   27,\n",
       "   44,\n",
       "   45,\n",
       "   46,\n",
       "   47,\n",
       "   48,\n",
       "   49,\n",
       "   50,\n",
       "   51,\n",
       "   52,\n",
       "   53,\n",
       "   54,\n",
       "   55,\n",
       "   56,\n",
       "   57,\n",
       "   58,\n",
       "   59,\n",
       "   60,\n",
       "   61,\n",
       "   30,\n",
       "   64,\n",
       "   65,\n",
       "   31,\n",
       "   66,\n",
       "   67,\n",
       "   68,\n",
       "   69,\n",
       "   70,\n",
       "   71],\n",
       "  'order': [1,\n",
       "   1,\n",
       "   1,\n",
       "   1,\n",
       "   1,\n",
       "   1,\n",
       "   1,\n",
       "   1,\n",
       "   1,\n",
       "   1,\n",
       "   2,\n",
       "   2,\n",
       "   1,\n",
       "   1,\n",
       "   1,\n",
       "   1,\n",
       "   1,\n",
       "   1,\n",
       "   1,\n",
       "   1,\n",
       "   1,\n",
       "   1,\n",
       "   1,\n",
       "   1,\n",
       "   1,\n",
       "   1,\n",
       "   1,\n",
       "   1,\n",
       "   1,\n",
       "   1,\n",
       "   1,\n",
       "   1,\n",
       "   1,\n",
       "   1,\n",
       "   1,\n",
       "   1,\n",
       "   1,\n",
       "   1,\n",
       "   1,\n",
       "   1,\n",
       "   1,\n",
       "   1,\n",
       "   1,\n",
       "   1,\n",
       "   1,\n",
       "   1,\n",
       "   1,\n",
       "   1,\n",
       "   1,\n",
       "   1,\n",
       "   1,\n",
       "   1,\n",
       "   1,\n",
       "   1,\n",
       "   1,\n",
       "   1,\n",
       "   1,\n",
       "   1,\n",
       "   1,\n",
       "   1,\n",
       "   1,\n",
       "   1,\n",
       "   1,\n",
       "   1,\n",
       "   1,\n",
       "   1,\n",
       "   1,\n",
       "   1,\n",
       "   1,\n",
       "   1,\n",
       "   1,\n",
       "   1,\n",
       "   1,\n",
       "   1,\n",
       "   1,\n",
       "   1,\n",
       "   1]},\n",
       " 'stereo': [{'tetrahedral': {'center': 8,\n",
       "    'above': 9,\n",
       "    'top': 14,\n",
       "    'bottom': 12,\n",
       "    'below': 32,\n",
       "    'parity': 2,\n",
       "    'type': 1}},\n",
       "  {'tetrahedral': {'center': 10,\n",
       "    'above': 11,\n",
       "    'top': 15,\n",
       "    'bottom': 13,\n",
       "    'below': 33,\n",
       "    'parity': 2,\n",
       "    'type': 1}},\n",
       "  {'tetrahedral': {'center': 12,\n",
       "    'above': 8,\n",
       "    'top': 16,\n",
       "    'bottom': 9,\n",
       "    'below': 34,\n",
       "    'parity': 2,\n",
       "    'type': 1}},\n",
       "  {'tetrahedral': {'center': 13,\n",
       "    'above': 10,\n",
       "    'top': 17,\n",
       "    'bottom': 11,\n",
       "    'below': 35,\n",
       "    'parity': 2,\n",
       "    'type': 1}},\n",
       "  {'tetrahedral': {'center': 18,\n",
       "    'above': 3,\n",
       "    'top': 14,\n",
       "    'bottom': 24,\n",
       "    'below': 26,\n",
       "    'parity': 1,\n",
       "    'type': 1}},\n",
       "  {'tetrahedral': {'center': 19,\n",
       "    'above': 4,\n",
       "    'top': 15,\n",
       "    'bottom': 25,\n",
       "    'below': 27,\n",
       "    'parity': 1,\n",
       "    'type': 1}},\n",
       "  {'planar': {'left': 5,\n",
       "    'ltop': -1,\n",
       "    'lbottom': 1,\n",
       "    'right': 24,\n",
       "    'rtop': 16,\n",
       "    'rbottom': 18,\n",
       "    'parity': 1,\n",
       "    'type': 1}},\n",
       "  {'planar': {'left': 6,\n",
       "    'ltop': -1,\n",
       "    'lbottom': 2,\n",
       "    'right': 25,\n",
       "    'rtop': 17,\n",
       "    'rbottom': 19,\n",
       "    'parity': 1,\n",
       "    'type': 1}}],\n",
       " 'coords': [{'type': [1, 5, 255],\n",
       "   'aid': [1,\n",
       "    2,\n",
       "    3,\n",
       "    4,\n",
       "    5,\n",
       "    6,\n",
       "    7,\n",
       "    8,\n",
       "    9,\n",
       "    10,\n",
       "    11,\n",
       "    12,\n",
       "    13,\n",
       "    14,\n",
       "    15,\n",
       "    16,\n",
       "    17,\n",
       "    18,\n",
       "    19,\n",
       "    20,\n",
       "    21,\n",
       "    22,\n",
       "    23,\n",
       "    24,\n",
       "    25,\n",
       "    26,\n",
       "    27,\n",
       "    28,\n",
       "    29,\n",
       "    30,\n",
       "    31,\n",
       "    32,\n",
       "    33,\n",
       "    34,\n",
       "    35,\n",
       "    36,\n",
       "    37,\n",
       "    38,\n",
       "    39,\n",
       "    40,\n",
       "    41,\n",
       "    42,\n",
       "    43,\n",
       "    44,\n",
       "    45,\n",
       "    46,\n",
       "    47,\n",
       "    48,\n",
       "    49,\n",
       "    50,\n",
       "    51,\n",
       "    52,\n",
       "    53,\n",
       "    54,\n",
       "    55,\n",
       "    56,\n",
       "    57,\n",
       "    58,\n",
       "    59,\n",
       "    60,\n",
       "    61,\n",
       "    62,\n",
       "    63,\n",
       "    64,\n",
       "    65,\n",
       "    66,\n",
       "    67,\n",
       "    68,\n",
       "    69,\n",
       "    70,\n",
       "    71,\n",
       "    72,\n",
       "    73,\n",
       "    74],\n",
       "   'conformers': [{'x': [9.0003,\n",
       "      4.7323,\n",
       "      9.7323,\n",
       "      5.2323,\n",
       "      9.8663,\n",
       "      3.8663,\n",
       "      7.7323,\n",
       "      12.4644,\n",
       "      13.3309,\n",
       "      3.8663,\n",
       "      3,\n",
       "      12.4644,\n",
       "      3.0003,\n",
       "      11.5983,\n",
       "      4.7323,\n",
       "      11.5983,\n",
       "      3.0003,\n",
       "      10.7323,\n",
       "      4.7323,\n",
       "      13.8309,\n",
       "      13.8309,\n",
       "      2,\n",
       "      3.5,\n",
       "      10.7323,\n",
       "      3.8663,\n",
       "      10.2323,\n",
       "      5.7323,\n",
       "      9.2323,\n",
       "      6.2323,\n",
       "      8.2323,\n",
       "      6.7323,\n",
       "      12.8893,\n",
       "      4.2914,\n",
       "      12.8893,\n",
       "      2.1503,\n",
       "      11.9969,\n",
       "      11.1998,\n",
       "      5.3429,\n",
       "      4.9444,\n",
       "      11.1998,\n",
       "      11.9969,\n",
       "      2.3897,\n",
       "      2.7882,\n",
       "      13.294,\n",
       "      14.1409,\n",
       "      14.3678,\n",
       "      14.3678,\n",
       "      14.1409,\n",
       "      13.294,\n",
       "      2,\n",
       "      1.38,\n",
       "      2,\n",
       "      4.0369,\n",
       "      3.81,\n",
       "      2.9631,\n",
       "      10.7692,\n",
       "      9.9223,\n",
       "      9.6954,\n",
       "      5.7323,\n",
       "      6.3523,\n",
       "      5.7323,\n",
       "      9.4223,\n",
       "      4.9223,\n",
       "      9.8149,\n",
       "      9.1246,\n",
       "      6.8149,\n",
       "      6.1246,\n",
       "      7.6497,\n",
       "      8.34,\n",
       "      6.1497,\n",
       "      6.84,\n",
       "      8.0423,\n",
       "      8.4633,\n",
       "      4.7323],\n",
       "     'y': [-3.4153,\n",
       "      -0.9512,\n",
       "      -2.4153,\n",
       "      0.1828,\n",
       "      -3.9153,\n",
       "      -0.4512,\n",
       "      -0.6832,\n",
       "      -2.4153,\n",
       "      -2.9153,\n",
       "      2.5488,\n",
       "      3.0493,\n",
       "      -3.4153,\n",
       "      2.0488,\n",
       "      -1.9153,\n",
       "      2.0488,\n",
       "      -3.9153,\n",
       "      1.0488,\n",
       "      -2.4153,\n",
       "      1.0488,\n",
       "      -3.7813,\n",
       "      -2.0493,\n",
       "      3.0493,\n",
       "      3.9153,\n",
       "      -3.4153,\n",
       "      0.5488,\n",
       "      -1.5493,\n",
       "      1.0488,\n",
       "      -1.5493,\n",
       "      0.1828,\n",
       "      -1.5493,\n",
       "      -0.6832,\n",
       "      -1.6791,\n",
       "      3.2849,\n",
       "      -4.1515,\n",
       "      2.0487,\n",
       "      -1.4403,\n",
       "      -1.4403,\n",
       "      1.9412,\n",
       "      2.6314,\n",
       "      -4.3902,\n",
       "      -4.3902,\n",
       "      1.1565,\n",
       "      0.4662,\n",
       "      -4.0913,\n",
       "      -4.3182,\n",
       "      -3.4713,\n",
       "      -2.3593,\n",
       "      -1.5123,\n",
       "      -1.7393,\n",
       "      3.6693,\n",
       "      3.0493,\n",
       "      2.4293,\n",
       "      3.6053,\n",
       "      4.4522,\n",
       "      4.2253,\n",
       "      -1.2393,\n",
       "      -1.0123,\n",
       "      -1.8593,\n",
       "      0.4288,\n",
       "      1.0488,\n",
       "      1.6688,\n",
       "      -2.9522,\n",
       "      -0.3541,\n",
       "      -1.3372,\n",
       "      -0.9387,\n",
       "      0.3948,\n",
       "      0.7934,\n",
       "      -1.7613,\n",
       "      -2.1598,\n",
       "      -0.8953,\n",
       "      -1.2938,\n",
       "      -0.1463,\n",
       "      -3.7253,\n",
       "      -1.5712],\n",
       "     'style': {'annotation': [5, 6, 5, 6, 5, 6],\n",
       "      'aid1': [8, 10, 12, 13, 18, 19],\n",
       "      'aid2': [32, 33, 34, 35, 3, 4]}}]}],\n",
       " 'props': [{'urn': {'label': 'SMILES',\n",
       "    'name': 'Isomeric',\n",
       "    'datatype': 1,\n",
       "    'version': '2.3.0',\n",
       "    'software': 'OEChem',\n",
       "    'source': 'OpenEye Scientific Software',\n",
       "    'release': '2019.06.18'},\n",
       "   'value': {'sval': 'C[C@]1(/C(=N\\\\O)/C[C@H]2C([C@H]2C1)(C)C)NCCNCCN[C@@]3(/C(=N\\\\O)/C[C@H]4C([C@H]4C3)(C)C)C'}},\n",
       "  {'urn': {'label': 'InChI',\n",
       "    'name': 'Standard',\n",
       "    'datatype': 1,\n",
       "    'version': '1.0.5',\n",
       "    'software': 'InChI',\n",
       "    'source': 'iupac.org',\n",
       "    'release': '2019.06.18'},\n",
       "   'value': {'sval': 'InChI=1S/C24H43N5O2/c1-21(2)15-11-19(28-30)23(5,13-17(15)21)26-9-7-25-8-10-27-24(6)14-18-16(22(18,3)4)12-20(24)29-31/h15-18,25-27,30-31H,7-14H2,1-6H3/b28-19-,29-20-/t15-,16-,17+,18+,23+,24+/m1/s1'}}]}"
      ]
     },
     "execution_count": 55,
     "metadata": {},
     "output_type": "execute_result"
    }
   ],
   "source": [
    "test_inchi = 'InChI=1S/C24H43N5O2/c1-21(2)15-11-19(28-30)23(5,13-17(15)21)26-9-7-25-8-10-27-24(6)14-18-16(22(18,3)4)12-20(24)29-31/h15-18,25-27,30-31H,7-14H2,1-6H3/b28-19+,29-20+/t15-,16-,17+,18+,23+,24+/m1/s1'\n",
    "c = pcp.get_compounds(test_inchi, 'inchi')[0]\n",
    "c.record"
   ]
  },
  {
   "cell_type": "code",
   "execution_count": 57,
   "metadata": {},
   "outputs": [],
   "source": [
    "pcp.download('PNG', 'test.png', test_inchi, 'inchi', overwrite=True)"
   ]
  },
  {
   "cell_type": "code",
   "execution_count": 62,
   "metadata": {},
   "outputs": [
    {
     "data": {
      "image/png": "[encoded data removed]",
      "text/plain": [
       "<Figure size 1152x864 with 1 Axes>"
      ]
     },
     "metadata": {
      "needs_background": "light"
     },
     "output_type": "display_data"
    }
   ],
   "source": [
    "visualize_img_id(train_labels[train_labels.InChI == test_inchi].image_id.values[0])"
   ]
  },
  {
   "cell_type": "code",
   "execution_count": 17,
   "metadata": {},
   "outputs": [
    {
     "data": {
      "image/png": "[encoded data removed]",
      "text/plain": [
       "<Figure size 1152x864 with 1 Axes>"
      ]
     },
     "metadata": {
      "needs_background": "light"
     },
     "output_type": "display_data"
    }
   ],
   "source": [
    "plt.figure(figsize=(16,12))\n",
    "img = cv2.imread('test.png')\n",
    "img = cv2.cvtColor(img, cv2.COLOR_BGR2GRAY)\n",
    "plt.imshow(img, cmap='gray', vmin=0, vmax=255)\n",
    "plt.show()"
   ]
  },
  {
   "cell_type": "code",
   "execution_count": 15,
   "metadata": {},
   "outputs": [],
   "source": [
    "for i in range(img.shape[0]):\n",
    "    for j in range(img.shape[1]):\n",
    "        if img[i,j] == 245:\n",
    "            img[i,j] == 0"
   ]
  },
  {
   "cell_type": "code",
   "execution_count": 16,
   "metadata": {},
   "outputs": [
    {
     "data": {
      "image/png": "[encoded data removed]",
      "text/plain": [
       "<Figure size 432x288 with 1 Axes>"
      ]
     },
     "metadata": {
      "needs_background": "light"
     },
     "output_type": "display_data"
    }
   ],
   "source": [
    "plt.imshow(img, cmap='gray', vmin=0, vmax=255)\n",
    "plt.show()"
   ]
  },
  {
   "cell_type": "code",
   "execution_count": 13,
   "metadata": {},
   "outputs": [
    {
     "data": {
      "text/plain": [
       "array([[245, 245, 245, ..., 245, 245, 245],\n",
       "       [245, 245, 245, ..., 245, 245, 245],\n",
       "       [245, 245, 245, ..., 245, 245, 245],\n",
       "       ...,\n",
       "       [245, 245, 245, ..., 245, 245, 245],\n",
       "       [245, 245, 245, ..., 245, 245, 245],\n",
       "       [245, 245, 245, ..., 245, 245, 245]], dtype=uint8)"
      ]
     },
     "execution_count": 13,
     "metadata": {},
     "output_type": "execute_result"
    }
   ],
   "source": [
    "img"
   ]
  },
  {
   "cell_type": "code",
   "execution_count": null,
   "metadata": {},
   "outputs": [],
   "source": []
  },
  {
   "cell_type": "markdown",
   "metadata": {},
   "source": [
    "### Calc Mean and StdDev of Dataset"
   ]
  },
  {
   "cell_type": "code",
   "execution_count": 162,
   "metadata": {},
   "outputs": [],
   "source": [
    "def calc_data_mean_std(DIR):\n",
    "    channel_1_means = []\n",
    "    channel_2_means = []\n",
    "    channel_3_means = []\n",
    "    channel_1_stds = []\n",
    "    channel_2_stds = []\n",
    "    channel_3_stds = []\n",
    "    for img_id in train_labels.sample(n=100).image_id.values:\n",
    "        img_path = get_path_from_img_id(img_id, DIR)\n",
    "        img = (255 - cv2.imread(img_path)) / 255\n",
    "        means = np.mean(img.reshape(-1, img.shape[-1]), axis=0)\n",
    "        stds = np.std(img.reshape(-1, img.shape[-1]), axis=0)\n",
    "        channel_1_means.append(means[0])\n",
    "        channel_2_means.append(means[1])\n",
    "        channel_3_means.append(means[2])\n",
    "        channel_1_stds.append(stds[0])\n",
    "        channel_2_stds.append(stds[1])\n",
    "        channel_3_stds.append(stds[2])\n",
    "    channel_1_mean = np.mean(channel_1_means)\n",
    "    channel_2_mean = np.mean(channel_2_means)\n",
    "    channel_3_mean = np.mean(channel_3_means)\n",
    "    channel_1_std = np.mean(channel_1_stds)\n",
    "    channel_2_std = np.mean(channel_2_stds)\n",
    "    channel_3_std = np.mean(channel_3_stds)\n",
    "    means = [channel_1_mean, channel_2_mean, channel_3_mean]\n",
    "    stds = [channel_1_std, channel_2_std, channel_3_std]\n",
    "    mean_std_dict = {'means': means,\n",
    "                     'stds': stds}\n",
    "    with open(os.path.join(DIR, 'mean_std.json'), 'w') as f:\n",
    "        json.dump(mean_std_dict, f)"
   ]
  },
  {
   "cell_type": "code",
   "execution_count": null,
   "metadata": {},
   "outputs": [],
   "source": [
    "calc_data_mean_std(TRAIN_RESIZE_DIR)"
   ]
  },
  {
   "cell_type": "code",
   "execution_count": null,
   "metadata": {},
   "outputs": [],
   "source": []
  },
  {
   "cell_type": "markdown",
   "metadata": {},
   "source": [
    "# Data Loading"
   ]
  },
  {
   "cell_type": "code",
   "execution_count": 45,
   "metadata": {},
   "outputs": [],
   "source": [
    "def inchi_tokenizer(substring):\n",
    "    pattern =  \"(\\[[^\\]]+]|Br?|Cl?|Si?|N|H|O|S|P|F|I|D|T|b|c|n|o|s|p|h|t|m|i|\\(|\\)|\\.|=|#|-|,|\\+|\\\\\\\\|\\/|_|:|~|@|\\?|>|\\*|\\$|1[0-9]|2[0-9]|[0-9])\"\n",
    "    regezz = re.compile(pattern)\n",
    "    tokens = [token for token in regezz.findall(substring)]\n",
    "    assert substring == ''.join(tokens), (\"{} could not be joined -> {}\".format(substring, tokens))\n",
    "    return tokens"
   ]
  },
  {
   "cell_type": "code",
   "execution_count": 195,
   "metadata": {},
   "outputs": [],
   "source": [
    "def encode_inchis(inchi, max_len, char_dict):\n",
    "    \"Converts tokenized InChIs to a list of token ids\"\n",
    "    for i in range(max_len - len(inchi)):\n",
    "        inchi.append('<pad>')\n",
    "    inchi_vec = [char_dict[c] for c in inchi]\n",
    "    return inchi_vec"
   ]
  },
  {
   "cell_type": "code",
   "execution_count": 204,
   "metadata": {},
   "outputs": [],
   "source": [
    "class MoleculeDataset(Dataset):\n",
    "    \"\"\"\n",
    "    PyTorch Dataset class to load molecular images and InChIs\n",
    "    \"\"\"\n",
    "    def __init__(self, labels_fn, source_dir, char_dict, max_inchi_len, transform=None):\n",
    "        self.labels = pd.read_csv(labels_fn)\n",
    "        self.source_dir = source_dir\n",
    "        self.char_dict = char_dict\n",
    "        self.max_inchi_len = max_inchi_len\n",
    "        self.transform = transform\n",
    "        with open(os.path.join(source_dir, 'mean_std.json'), 'r') as f:\n",
    "            mean_std_dict = json.load(f)\n",
    "        self.means = mean_std_dict['means']\n",
    "        self.stds = mean_std_dict['stds']\n",
    "    \n",
    "    def __getitem__(self, i):\n",
    "        ### grab image\n",
    "        img_id = self.labels.image_id.values[i]\n",
    "        img_path = get_path_from_img_id(img_id, self.source_dir)\n",
    "        img = (255 - cv2.imread(img_path)) / 255\n",
    "        if self.transform is not None:\n",
    "            img = self.transform(img)\n",
    "        img = torch.tensor(img)\n",
    "        \n",
    "        ### grab inchi\n",
    "        inchi = self.labels.InChI.values[i]\n",
    "        inchi = inchi.split('InChI=1S/')[1]\n",
    "        inchi = ''.join(inchi)\n",
    "        tokenized_inchi = substring_tokenizer(inchi)\n",
    "        tokenized_inchi = ['<sos>'] + tokenized_inchi\n",
    "        tokenized_inchi += ['<eos>']\n",
    "        encoded_inchi = torch.tensor(encode_inchis(tokenized_inchi, self.max_inchi_len, self.char_dict))\n",
    "        return img, encoded_inchi\n",
    "        \n",
    "        \n",
    "    def __len__(self):\n",
    "        return self.labels.shape[0]"
   ]
  },
  {
   "cell_type": "code",
   "execution_count": 24,
   "metadata": {},
   "outputs": [],
   "source": [
    "mol_train = MoleculeDataset('../data/train.csv', TRAIN_RESIZE_DIR, CHAR_DICT, MAX_INCHI_LENGTH)"
   ]
  },
  {
   "cell_type": "code",
   "execution_count": 25,
   "metadata": {},
   "outputs": [],
   "source": [
    "img, encoded_inchi = mol_train[0]"
   ]
  },
  {
   "cell_type": "code",
   "execution_count": 26,
   "metadata": {},
   "outputs": [
    {
     "data": {
      "text/plain": [
       "tensor([57, 38, 17, 42, 23, 44, 18, 45, 29,  5, 51,  7,  4, 12,  0, 32,  4, 33,\n",
       "         4, 13,  4, 34,  4,  8,  4, 16,  0, 22,  1,  9,  4, 35,  4, 13,  1, 20,\n",
       "         4, 17,  0, 23,  1, 19,  4, 10,  4, 14,  4, 30,  4, 18,  4, 29,  4, 31,\n",
       "         4, 15,  0, 14,  1, 11,  4, 21,  5, 52, 18,  4, 31,  3, 34,  4,  9,  3,\n",
       "        12,  3, 21,  4, 22, 42,  3, 32,  4, 33,  3, 10,  4, 11, 42, 18,  3,  7,\n",
       "        42, 29,  3,  0, 42, 18,  3, 19,  3, 20,  3, 23,  1, 58, 59, 59, 59, 59,\n",
       "        59, 59, 59, 59, 59, 59, 59, 59, 59, 59, 59, 59, 59, 59, 59, 59, 59, 59,\n",
       "        59, 59, 59, 59, 59, 59, 59, 59, 59, 59, 59, 59, 59, 59, 59, 59, 59, 59,\n",
       "        59, 59, 59, 59, 59, 59, 59, 59, 59, 59, 59, 59, 59, 59, 59, 59, 59, 59,\n",
       "        59, 59, 59, 59, 59, 59, 59, 59, 59, 59, 59, 59, 59, 59, 59, 59, 59, 59,\n",
       "        59, 59, 59, 59, 59, 59, 59, 59, 59, 59, 59, 59, 59, 59, 59, 59, 59, 59,\n",
       "        59, 59, 59, 59, 59, 59, 59, 59, 59, 59, 59, 59, 59, 59, 59, 59, 59, 59,\n",
       "        59, 59, 59, 59, 59, 59, 59, 59, 59, 59, 59, 59, 59, 59, 59, 59, 59, 59,\n",
       "        59, 59, 59, 59, 59, 59, 59, 59, 59, 59, 59, 59, 59, 59, 59, 59, 59, 59,\n",
       "        59, 59, 59, 59, 59, 59, 59, 59, 59, 59, 59, 59, 59, 59, 59, 59, 59, 59,\n",
       "        59, 59, 59, 59, 59, 59, 59, 59, 59, 59, 59, 59, 59, 59, 59, 59, 59, 59,\n",
       "        59, 59, 59, 59, 59, 59, 59, 59, 59, 59, 59, 59, 59, 59, 59, 59, 59, 59,\n",
       "        59, 59, 59, 59, 59, 59, 59, 59, 59, 59, 59, 59, 59, 59, 59, 59, 59, 59,\n",
       "        59, 59, 59, 59, 59, 59, 59, 59, 59, 59, 59, 59, 59, 59, 59, 59, 59, 59,\n",
       "        59, 59, 59, 59, 59, 59, 59, 59])"
      ]
     },
     "execution_count": 26,
     "metadata": {},
     "output_type": "execute_result"
    }
   ],
   "source": [
    "encoded_inchi"
   ]
  },
  {
   "cell_type": "code",
   "execution_count": null,
   "metadata": {},
   "outputs": [],
   "source": []
  },
  {
   "cell_type": "markdown",
   "metadata": {},
   "source": [
    "# Building Model"
   ]
  },
  {
   "cell_type": "code",
   "execution_count": 32,
   "metadata": {},
   "outputs": [],
   "source": [
    "mol_train = MoleculeDataset('../data/train.csv', TRAIN_RESIZE_DIR, CHAR_DICT, MAX_INCHI_LENGTH)"
   ]
  },
  {
   "cell_type": "code",
   "execution_count": 34,
   "metadata": {},
   "outputs": [
    {
     "data": {
      "text/plain": [
       "torch.Size([5, 256, 256])"
      ]
     },
     "execution_count": 34,
     "metadata": {},
     "output_type": "execute_result"
    }
   ],
   "source": [
    "img, encoded_inchi = mol_train[0]\n",
    "img.shape"
   ]
  },
  {
   "cell_type": "code",
   "execution_count": 11,
   "metadata": {},
   "outputs": [
    {
     "name": "stdout",
     "output_type": "stream",
     "text": [
      "0.18.1\n"
     ]
    }
   ],
   "source": [
    "import skimage\n",
    "print(skimage.__version__)"
   ]
  },
  {
   "cell_type": "code",
   "execution_count": null,
   "metadata": {},
   "outputs": [],
   "source": [
    "img = img.view(1, img.shape[2], img.shape[0], img.shape[1]).float()"
   ]
  },
  {
   "cell_type": "code",
   "execution_count": 11,
   "metadata": {},
   "outputs": [],
   "source": [
    "resnet26 = ResNet26()"
   ]
  },
  {
   "cell_type": "code",
   "execution_count": 12,
   "metadata": {},
   "outputs": [
    {
     "data": {
      "text/plain": [
       "10334952"
      ]
     },
     "execution_count": 12,
     "metadata": {},
     "output_type": "execute_result"
    }
   ],
   "source": [
    "get_model_parameters(resnet26)"
   ]
  },
  {
   "cell_type": "code",
   "execution_count": null,
   "metadata": {},
   "outputs": [
    {
     "name": "stdout",
     "output_type": "stream",
     "text": [
      "-- Input Shape --\n",
      "torch.Size([1, 3, 256, 256])\n",
      "-- Stemp Shape --\n",
      "torch.Size([1, 64, 256, 256])\n",
      "-- Layer1 Shape --\n",
      "torch.Size([1, 256, 256, 256])\n",
      "-- Layer2 Shape --\n",
      "torch.Size([1, 512, 128, 128])\n",
      "-- Layer3 Shape --\n",
      "torch.Size([1, 1024, 64, 64])\n"
     ]
    }
   ],
   "source": [
    "resnet26(img)"
   ]
  },
  {
   "cell_type": "code",
   "execution_count": null,
   "metadata": {},
   "outputs": [],
   "source": []
  },
  {
   "cell_type": "code",
   "execution_count": null,
   "metadata": {},
   "outputs": [],
   "source": []
  },
  {
   "cell_type": "code",
   "execution_count": null,
   "metadata": {},
   "outputs": [],
   "source": []
  },
  {
   "cell_type": "markdown",
   "metadata": {},
   "source": [
    "# Exploring InChIs"
   ]
  },
  {
   "cell_type": "code",
   "execution_count": 157,
   "metadata": {},
   "outputs": [],
   "source": [
    "substring_headers = {}\n",
    "for i, inchi in enumerate(train_labels.InChI):\n",
    "    inchi = inchi.split('/')[2:]\n",
    "    for substring in inchi:\n",
    "        substring_header = substring[0]\n",
    "        if substring_header in substring_headers.keys():\n",
    "            substring_headers[substring_header] += 1\n",
    "        else:\n",
    "            substring_headers[substring_header] = 1"
   ]
  },
  {
   "cell_type": "code",
   "execution_count": 158,
   "metadata": {},
   "outputs": [
    {
     "data": {
      "text/plain": [
       "{'c': 2424186,\n",
       " 'h': 2424028,\n",
       " 't': 399794,\n",
       " 'm': 396177,\n",
       " 's': 396150,\n",
       " 'b': 152473,\n",
       " 'i': 2645}"
      ]
     },
     "execution_count": 158,
     "metadata": {},
     "output_type": "execute_result"
    }
   ],
   "source": [
    "substring_headers"
   ]
  },
  {
   "cell_type": "code",
   "execution_count": 159,
   "metadata": {},
   "outputs": [
    {
     "data": {
      "text/plain": [
       "2424186"
      ]
     },
     "execution_count": 159,
     "metadata": {},
     "output_type": "execute_result"
    }
   ],
   "source": [
    "len(train_labels.InChI)"
   ]
  },
  {
   "cell_type": "code",
   "execution_count": 165,
   "metadata": {},
   "outputs": [
    {
     "data": {
      "text/plain": [
       "0.0010910878950707579"
      ]
     },
     "execution_count": 165,
     "metadata": {},
     "output_type": "execute_result"
    }
   ],
   "source": [
    "substring_headers['i'] / len(train_labels.InChI)"
   ]
  },
  {
   "cell_type": "code",
   "execution_count": 166,
   "metadata": {},
   "outputs": [
    {
     "data": {
      "text/plain": [
       "0.099"
      ]
     },
     "execution_count": 166,
     "metadata": {},
     "output_type": "execute_result"
    }
   ],
   "source": [
    "0.9 * 0.11"
   ]
  },
  {
   "cell_type": "code",
   "execution_count": 172,
   "metadata": {},
   "outputs": [
    {
     "data": {
      "text/plain": [
       "99999.99999899999"
      ]
     },
     "execution_count": 172,
     "metadata": {},
     "output_type": "execute_result"
    }
   ],
   "source": [
    "1000000 * 0.9 * 0.11111111111"
   ]
  },
  {
   "cell_type": "code",
   "execution_count": 186,
   "metadata": {},
   "outputs": [
    {
     "data": {
      "text/plain": [
       "((2181767,), (242419,))"
      ]
     },
     "execution_count": 186,
     "metadata": {},
     "output_type": "execute_result"
    }
   ],
   "source": [
    "n_samples = train_labels.shape[0]\n",
    "n_train = int(n_samples * 0.9)\n",
    "n_test = n_samples - n_train\n",
    "rand_idxs = np.random.choice(np.arange(train_labels.shape[0]), size=train_labels.shape[0], replace=False)\n",
    "train_idxs = rand_idxs[:n_train]\n",
    "test_idxs = rand_idxs[n_train:]\n",
    "train_idxs.shape, test_idxs.shape"
   ]
  },
  {
   "cell_type": "code",
   "execution_count": 187,
   "metadata": {},
   "outputs": [],
   "source": [
    "train_df = train_labels.iloc[train_idxs]\n",
    "test_df = train_labels.iloc[test_idxs]"
   ]
  },
  {
   "cell_type": "code",
   "execution_count": 188,
   "metadata": {},
   "outputs": [],
   "source": [
    "train_substring_headers = {}\n",
    "for i, inchi in enumerate(train_df.InChI):\n",
    "    inchi = inchi.split('/')[2:]\n",
    "    for substring in inchi:\n",
    "        substring_header = substring[0]\n",
    "        if substring_header in train_substring_headers.keys():\n",
    "            train_substring_headers[substring_header] += 1\n",
    "        else:\n",
    "            train_substring_headers[substring_header] = 1\n",
    "\n",
    "for k, v in train_substring_headers.items():\n",
    "    train_substring_headers[k] = v / train_df.shape[0]"
   ]
  },
  {
   "cell_type": "code",
   "execution_count": 189,
   "metadata": {},
   "outputs": [],
   "source": [
    "test_substring_headers = {}\n",
    "for i, inchi in enumerate(test_df.InChI):\n",
    "    inchi = inchi.split('/')[2:]\n",
    "    for substring in inchi:\n",
    "        substring_header = substring[0]\n",
    "        if substring_header in test_substring_headers.keys():\n",
    "            test_substring_headers[substring_header] += 1\n",
    "        else:\n",
    "            test_substring_headers[substring_header] = 1\n",
    "\n",
    "for k, v in test_substring_headers.items():\n",
    "    test_substring_headers[k] = v / test_df.shape[0]"
   ]
  },
  {
   "cell_type": "code",
   "execution_count": 190,
   "metadata": {},
   "outputs": [
    {
     "data": {
      "text/plain": [
       "{'c': 1.0,\n",
       " 'h': 0.999937206860311,\n",
       " 't': 0.1649736200061693,\n",
       " 'm': 0.16347895994393535,\n",
       " 's': 0.163467042997717,\n",
       " 'b': 0.0628114734524814,\n",
       " 'i': 0.001085817138127032}"
      ]
     },
     "execution_count": 190,
     "metadata": {},
     "output_type": "execute_result"
    }
   ],
   "source": [
    "train_substring_headers"
   ]
  },
  {
   "cell_type": "code",
   "execution_count": 191,
   "metadata": {},
   "outputs": [
    {
     "data": {
      "text/plain": [
       "{'c': 1.0,\n",
       " 'h': 0.9999133731266938,\n",
       " 't': 0.1644260557134548,\n",
       " 'm': 0.16295752395645555,\n",
       " 's': 0.1629533988672505,\n",
       " 'b': 0.0636625017015993,\n",
       " 'i': 0.0011385246205949204}"
      ]
     },
     "execution_count": 191,
     "metadata": {},
     "output_type": "execute_result"
    }
   ],
   "source": [
    "test_substring_headers"
   ]
  },
  {
   "cell_type": "code",
   "execution_count": 192,
   "metadata": {},
   "outputs": [],
   "source": [
    "train_df.to_csv('train.csv')\n",
    "test_df.to_csv('test.csv')"
   ]
  },
  {
   "cell_type": "code",
   "execution_count": null,
   "metadata": {},
   "outputs": [],
   "source": []
  },
  {
   "cell_type": "markdown",
   "metadata": {},
   "source": [
    "### Tokenizing"
   ]
  },
  {
   "cell_type": "code",
   "execution_count": 275,
   "metadata": {},
   "outputs": [],
   "source": [
    "### Splitting into substrings\n",
    "\n",
    "for inchi in train_df.InChI.values:\n",
    "    og_inchi = inchi\n",
    "    inchi = inchi.split('/')[1:]\n",
    "    chemical_formula = inchi[0]\n",
    "    atom_connection_layer = inchi[1]\n",
    "    remaining_substrings = inchi[2:]\n",
    "\n",
    "    hydrogen_layer = ''\n",
    "    stereochemical_layer = ''\n",
    "    isotopic_layer = ''\n",
    "    for substring in remaining_substrings:\n",
    "        if substring[0] == 'h' and len(hydrogen_layer) == 0:\n",
    "            hydrogen_layer = '/' + substring\n",
    "        elif substring[0] == 'i' or substring[0] == 'h' or (len(isotopic_layer) > 0 and (substring[0] == 'b' or substring[0] == 't' or substring[0] == 'm' or substring[0] == 's')):\n",
    "            isotopic_layer += substring + '/'\n",
    "        elif substring[0] == 'b' or substring[0] == 't' or substring[0] == 'm' or substring[0] == 's':\n",
    "            stereochemical_layer += substring + '/'\n",
    "    \n",
    "#     print(og_inchi)\n",
    "#     print('-- Chemical Formula --')\n",
    "    chemical_formula_toks = substring_tokenizer(chemical_formula)\n",
    "#     print('{} -> {}'.format(chemical_formula, chemical_formula_toks))\n",
    "#     print('-- Atom Connection Sublayer --')\n",
    "    atom_connection_toks = substring_tokenizer(atom_connection_layer)\n",
    "#     print('{} -> {}'.format(atom_connection_layer, atom_connection_toks))\n",
    "    if len(hydrogen_layer) > 0:\n",
    "#         print('-- Hydrogen Sublayer --')\n",
    "        hydrogen_toks = substring_tokenizer(hydrogen_layer)\n",
    "#         print('{} -> {}'.format(hydrogen_layer, hydrogen_toks))\n",
    "    if len(stereochemical_layer) > 0:\n",
    "        stereochemical_layer = '/' + stereochemical_layer[:-1]\n",
    "        stereochemical_toks = substring_tokenizer(stereochemical_layer)\n",
    "#         print('-- Stereochemical Layer --')\n",
    "#         print('{} -> {}'.format(stereochemical_layer, stereochemical_toks))\n",
    "    if len(isotopic_layer) > 0:\n",
    "#         print('-- Isotopic Layer --')\n",
    "        isotopic_layer = '/' + isotopic_layer[:-1]\n",
    "        isotopic_toks = substring_tokenizer(isotopic_layer)\n",
    "#         print('{} -> {}'.format(isotopic_layer, isotopic_toks))\n",
    "#     print('\\n')\n",
    "    recomp_inchi = 'InChI=1S/{}/{}{}{}{}'.format(chemical_formula, atom_connection_layer,\n",
    "                                                 hydrogen_layer, stereochemical_layer, isotopic_layer)\n",
    "    if recomp_inchi[-1] == '/':\n",
    "        recomp_inchi = recomp_inchi[:-1]\n",
    "    if og_inchi != recomp_inchi:\n",
    "        print(\"{} -> og\".format(og_inchi))\n",
    "        print(\"{} -> recomp\".format(recomp_inchi))\n",
    "        print('\\n')\n",
    "        "
   ]
  },
  {
   "cell_type": "code",
   "execution_count": 10,
   "metadata": {},
   "outputs": [],
   "source": [
    "### Tokenizing entire InChI\n",
    "\n",
    "train_char_dict = {}\n",
    "max_train_length = 0\n",
    "for inchi in train_labels.InChI.values:\n",
    "    og_inchi = inchi\n",
    "    inchi = inchi.split('InChI=1S/')[1]\n",
    "    inchi = ''.join(inchi)\n",
    "    tokenized_inchi = tokenize_inchi(inchi)\n",
    "    if len(tokenized_inchi) > max_train_length:\n",
    "        max_train_length = len(tokenized_inchi)\n",
    "    for tok in tokenized_inchi:\n",
    "        if tok not in train_char_dict.keys():\n",
    "            train_char_dict[tok] = 1\n",
    "        else:\n",
    "            train_char_dict[tok] += 1"
   ]
  },
  {
   "cell_type": "code",
   "execution_count": 11,
   "metadata": {},
   "outputs": [],
   "source": [
    "test_char_dict = {}\n",
    "max_test_length = 0\n",
    "for inchi in test_labels.InChI.values:\n",
    "    og_inchi = inchi\n",
    "    inchi = inchi.split('InChI=1S/')[1]\n",
    "    inchi = ''.join(inchi)\n",
    "    tokenized_inchi = tokenize_inchi(inchi)\n",
    "    if len(tokenized_inchi) > max_test_length:\n",
    "        max_test_length = len(tokenized_inchi)\n",
    "    for tok in tokenized_inchi:\n",
    "        if tok not in test_char_dict.keys():\n",
    "            test_char_dict[tok] = 1\n",
    "        else:\n",
    "            test_char_dict[tok] += 1"
   ]
  },
  {
   "cell_type": "code",
   "execution_count": 12,
   "metadata": {},
   "outputs": [
    {
     "data": {
      "text/plain": [
       "(346, 8)"
      ]
     },
     "execution_count": 12,
     "metadata": {},
     "output_type": "execute_result"
    }
   ],
   "source": [
    "max_train_length, max_test_length"
   ]
  },
  {
   "cell_type": "code",
   "execution_count": 13,
   "metadata": {},
   "outputs": [
    {
     "data": {
      "text/plain": [
       "{'C': 2424179,\n",
       " '13': 3986369,\n",
       " 'H': 10653784,\n",
       " '20': 2733517,\n",
       " 'O': 2174980,\n",
       " 'S': 782635,\n",
       " '/': 6195453,\n",
       " 'c': 2424186,\n",
       " '1': 6244320,\n",
       " '-': 45779934,\n",
       " '9': 3978105,\n",
       " '(': 13530038,\n",
       " '2': 8450380,\n",
       " ')': 13530038,\n",
       " '8': 3937914,\n",
       " '15': 3834757,\n",
       " '6': 4046992,\n",
       " '5': 4353269,\n",
       " '10': 3887940,\n",
       " '3': 11535006,\n",
       " '7': 3928450,\n",
       " '12': 3987144,\n",
       " '11': 3946461,\n",
       " '4': 5325899,\n",
       " '14': 3942888,\n",
       " 'h': 2424028,\n",
       " ',': 15921276,\n",
       " '21': 2444719,\n",
       " '0': 1149995,\n",
       " '22': 2181984,\n",
       " '25': 1637681,\n",
       " '17': 3492307,\n",
       " '23': 2007853,\n",
       " '19': 3005139,\n",
       " '18': 3270283,\n",
       " '24': 1831957,\n",
       " '16': 3691958,\n",
       " 't': 399794,\n",
       " '+': 259353,\n",
       " 'm': 396177,\n",
       " 's': 396150,\n",
       " 'N': 2242328,\n",
       " '28': 1098842,\n",
       " '27': 1265226,\n",
       " '26': 1453624,\n",
       " '29': 935851,\n",
       " 'Br': 193476,\n",
       " 'b': 152473,\n",
       " 'F': 469886,\n",
       " 'Cl': 420216,\n",
       " 'P': 16547,\n",
       " 'Si': 17642,\n",
       " 'B': 6675,\n",
       " 'I': 27208,\n",
       " 'i': 2645,\n",
       " 'D': 3978,\n",
       " 'T': 197}"
      ]
     },
     "execution_count": 13,
     "metadata": {},
     "output_type": "execute_result"
    }
   ],
   "source": [
    "train_char_dict"
   ]
  },
  {
   "cell_type": "code",
   "execution_count": 14,
   "metadata": {},
   "outputs": [
    {
     "data": {
      "text/plain": [
       "{'H': 3232214,\n",
       " '2': 3232214,\n",
       " 'O': 1616107,\n",
       " '/': 1616107,\n",
       " 'h': 1616107,\n",
       " '1': 1616107}"
      ]
     },
     "execution_count": 14,
     "metadata": {},
     "output_type": "execute_result"
    }
   ],
   "source": [
    "test_char_dict"
   ]
  },
  {
   "cell_type": "code",
   "execution_count": 15,
   "metadata": {},
   "outputs": [
    {
     "data": {
      "text/plain": [
       "(57, 6, 57)"
      ]
     },
     "execution_count": 15,
     "metadata": {},
     "output_type": "execute_result"
    }
   ],
   "source": [
    "len(train_char_dict.keys()), len(test_char_dict.keys()), len(set(list(train_char_dict.keys()) + list(test_char_dict.keys())))"
   ]
  },
  {
   "cell_type": "code",
   "execution_count": 85,
   "metadata": {},
   "outputs": [],
   "source": [
    "labels = sorted(train_char_dict.keys())"
   ]
  },
  {
   "cell_type": "code",
   "execution_count": 86,
   "metadata": {},
   "outputs": [],
   "source": [
    "def plot_char_freq(char_dict, labels, title='Train'):\n",
    "    fig = plt.figure(figsize=(20,6))\n",
    "    counts = []\n",
    "    for label in labels:\n",
    "        counts.append(char_dict[label])\n",
    "    plt.bar(range(len(counts)), counts)\n",
    "    plt.xticks(range(len(labels)), labels)\n",
    "    plt.title(title, fontweight='bold', fontsize=16)\n",
    "    plt.show()"
   ]
  },
  {
   "cell_type": "code",
   "execution_count": 87,
   "metadata": {},
   "outputs": [
    {
     "data": {
      "image/png": "[encoded data removed]",
      "text/plain": [
       "<Figure size 1440x432 with 1 Axes>"
      ]
     },
     "metadata": {
      "needs_background": "light"
     },
     "output_type": "display_data"
    }
   ],
   "source": [
    "plot_char_freq(train_char_dict, labels)"
   ]
  },
  {
   "cell_type": "code",
   "execution_count": 88,
   "metadata": {},
   "outputs": [
    {
     "data": {
      "image/png": "[encoded data removed]",
      "text/plain": [
       "<Figure size 1440x432 with 1 Axes>"
      ]
     },
     "metadata": {
      "needs_background": "light"
     },
     "output_type": "display_data"
    }
   ],
   "source": [
    "plot_char_freq(test_char_dict, labels, title='Test')"
   ]
  },
  {
   "cell_type": "code",
   "execution_count": 89,
   "metadata": {},
   "outputs": [
    {
     "data": {
      "text/plain": [
       "'InChI=1S/C19H24N2O3/c1-14(6-7-15-8-10-18(23)11-9-15)21-19(24)20-12-16-4-2-3-5-17(16)13-22/h2-5,8-11,14,22-23H,6-7,12-13H2,1H3,(H2,20,21,24)'"
      ]
     },
     "execution_count": 89,
     "metadata": {},
     "output_type": "execute_result"
    }
   ],
   "source": [
    "train_df.InChI.values[0]"
   ]
  },
  {
   "cell_type": "code",
   "execution_count": 171,
   "metadata": {},
   "outputs": [],
   "source": [
    "char_dict = {}\n",
    "ord_dict = {}\n",
    "for i, label in enumerate(labels):\n",
    "    char_dict[label] = i\n",
    "    ord_dict[i] = label\n",
    "\n",
    "n_toks = len(labels)\n",
    "char_dict['<sos>'] = n_toks\n",
    "char_dict['<eos>'] = n_toks + 1\n",
    "char_dict['<pad>'] = n_toks + 2\n",
    "ord_dict[n_toks] = '<sos>'\n",
    "ord_dict[n_toks + 1] = '<eos>'\n",
    "ord_dict[n_toks + 2] = '<pad>'"
   ]
  },
  {
   "cell_type": "code",
   "execution_count": 174,
   "metadata": {},
   "outputs": [],
   "source": [
    "with open('char_dict.json', 'w') as f:\n",
    "    json.dump(char_dict, f)\n",
    "with open('ord_dict.json', 'w') as f:\n",
    "    json.dump(ord_dict, f)"
   ]
  },
  {
   "cell_type": "code",
   "execution_count": 172,
   "metadata": {},
   "outputs": [
    {
     "data": {
      "text/plain": [
       "{'(': 0,\n",
       " ')': 1,\n",
       " '+': 2,\n",
       " ',': 3,\n",
       " '-': 4,\n",
       " '/': 5,\n",
       " '0': 6,\n",
       " '1': 7,\n",
       " '10': 8,\n",
       " '11': 9,\n",
       " '12': 10,\n",
       " '13': 11,\n",
       " '14': 12,\n",
       " '15': 13,\n",
       " '16': 14,\n",
       " '17': 15,\n",
       " '18': 16,\n",
       " '19': 17,\n",
       " '2': 18,\n",
       " '20': 19,\n",
       " '21': 20,\n",
       " '22': 21,\n",
       " '23': 22,\n",
       " '24': 23,\n",
       " '25': 24,\n",
       " '26': 25,\n",
       " '27': 26,\n",
       " '28': 27,\n",
       " '29': 28,\n",
       " '3': 29,\n",
       " '4': 30,\n",
       " '5': 31,\n",
       " '6': 32,\n",
       " '7': 33,\n",
       " '8': 34,\n",
       " '9': 35,\n",
       " 'B': 36,\n",
       " 'Br': 37,\n",
       " 'C': 38,\n",
       " 'Cl': 39,\n",
       " 'D': 40,\n",
       " 'F': 41,\n",
       " 'H': 42,\n",
       " 'I': 43,\n",
       " 'N': 44,\n",
       " 'O': 45,\n",
       " 'P': 46,\n",
       " 'S': 47,\n",
       " 'Si': 48,\n",
       " 'T': 49,\n",
       " 'b': 50,\n",
       " 'c': 51,\n",
       " 'h': 52,\n",
       " 'i': 53,\n",
       " 'm': 54,\n",
       " 's': 55,\n",
       " 't': 56,\n",
       " '<sos>': 57,\n",
       " '<eos>': 58,\n",
       " '<pad>': 59}"
      ]
     },
     "execution_count": 172,
     "metadata": {},
     "output_type": "execute_result"
    }
   ],
   "source": [
    "char_dict"
   ]
  },
  {
   "cell_type": "code",
   "execution_count": 173,
   "metadata": {},
   "outputs": [
    {
     "data": {
      "text/plain": [
       "{0: '(',\n",
       " 1: ')',\n",
       " 2: '+',\n",
       " 3: ',',\n",
       " 4: '-',\n",
       " 5: '/',\n",
       " 6: '0',\n",
       " 7: '1',\n",
       " 8: '10',\n",
       " 9: '11',\n",
       " 10: '12',\n",
       " 11: '13',\n",
       " 12: '14',\n",
       " 13: '15',\n",
       " 14: '16',\n",
       " 15: '17',\n",
       " 16: '18',\n",
       " 17: '19',\n",
       " 18: '2',\n",
       " 19: '20',\n",
       " 20: '21',\n",
       " 21: '22',\n",
       " 22: '23',\n",
       " 23: '24',\n",
       " 24: '25',\n",
       " 25: '26',\n",
       " 26: '27',\n",
       " 27: '28',\n",
       " 28: '29',\n",
       " 29: '3',\n",
       " 30: '4',\n",
       " 31: '5',\n",
       " 32: '6',\n",
       " 33: '7',\n",
       " 34: '8',\n",
       " 35: '9',\n",
       " 36: 'B',\n",
       " 37: 'Br',\n",
       " 38: 'C',\n",
       " 39: 'Cl',\n",
       " 40: 'D',\n",
       " 41: 'F',\n",
       " 42: 'H',\n",
       " 43: 'I',\n",
       " 44: 'N',\n",
       " 45: 'O',\n",
       " 46: 'P',\n",
       " 47: 'S',\n",
       " 48: 'Si',\n",
       " 49: 'T',\n",
       " 50: 'b',\n",
       " 51: 'c',\n",
       " 52: 'h',\n",
       " 53: 'i',\n",
       " 54: 'm',\n",
       " 55: 's',\n",
       " 56: 't',\n",
       " 57: '<sos>',\n",
       " 58: '<eos>',\n",
       " 59: '<pad>'}"
      ]
     },
     "execution_count": 173,
     "metadata": {},
     "output_type": "execute_result"
    }
   ],
   "source": [
    "ord_dict"
   ]
  },
  {
   "cell_type": "code",
   "execution_count": null,
   "metadata": {},
   "outputs": [],
   "source": []
  }
 ],
 "metadata": {
  "kernelspec": {
   "display_name": "Python 3",
   "language": "python",
   "name": "python3"
  },
  "language_info": {
   "codemirror_mode": {
    "name": "ipython",
    "version": 3
   },
   "file_extension": ".py",
   "mimetype": "text/x-python",
   "name": "python",
   "nbconvert_exporter": "python",
   "pygments_lexer": "ipython3",
   "version": "3.7.3"
  }
 },
 "nbformat": 4,
 "nbformat_minor": 2
}
